{
 "cells": [
  {
   "cell_type": "markdown",
   "metadata": {},
   "source": [
    "# Graduate Programme in Health Data Science <p>\n",
    "    \n",
    "# Assessed Coursework Submission<p>\n",
    "\n",
    "### Student candidate number: <font color=Blue size=5> CHFX2 </font><p>\n",
    "\n",
    "### Module:  <font color=Blue size=5> CHME0013: Data Methods for Health Research </font> <p>\n",
    "\n",
    "### Date due:  <font color=Blue size=5> Monday, 21st January 2019, 12:00 midday </font> <p>\n",
    "\n",
    "### Word count: (excluding references, diagrams and appendices)  <font color=Blue size=5> 2484 </font> <p>\n",
    "\n",
    "### Disability or other medical condition for which UCL has granted special examination arrangements: <p>\n",
    "\n",
    "### My learning development:\n",
    "\n",
    "##### On this assignment, I have been particularly focusing on data analysis and virtualization for health research"
   ]
  },
  {
   "cell_type": "markdown",
   "metadata": {},
   "source": [
    "***"
   ]
  },
  {
   "cell_type": "markdown",
   "metadata": {},
   "source": [
    "<font color=Blue size=10> Assignment_A_1 </font>"
   ]
  },
  {
   "cell_type": "markdown",
   "metadata": {},
   "source": [
    "#### The packages used in this assignment are NumPy, Pandas, Matplotlib and SciPy. NumPy is used for scientific computing including the mean and standard error. Pandas is used most frequently in this assignment. Dataframe is used for calculation, organize data and display data through the research. It could not only help us read data from CSV files but also help us to solve the problems in multidimensional structured data sets. The pie chart is also base on the function which is used to support Dataframe. The pyplot in Matplotlib is used for data virtualization. The histogram, scatterplot and trend line are based on this function. SciPy is used to show the Gaussian curve based on the histogram and used for normal distribution test."
   ]
  },
  {
   "cell_type": "code",
   "execution_count": 1,
   "metadata": {},
   "outputs": [],
   "source": [
    "#preliminaries\n",
    "import numpy as np\n",
    "import pandas as pd\n",
    "from matplotlib import pyplot as plt\n",
    "from scipy import stats"
   ]
  },
  {
   "cell_type": "markdown",
   "metadata": {},
   "source": [
    "#### The data sources used in Assignment A are NHS Digital GP Practice Prescribing and NHS Digital GP Practice Demographics in April 2018. In NHS Digital GP Practice Prescribing, they provide information in practice level prescribing data. The variables including the practice code, the BNF code, the BNF name, the total actual cost, practice’s address, practice’s city, practice’s postcode. In NHS Digital GP Practice Demographics, they provide information about patients registered at GP. The variables including the practice code and the number of patients. The practice code is existing in both data sources, and it could be identified as a potential identifier for data linkage. "
   ]
  },
  {
   "cell_type": "code",
   "execution_count": 2,
   "metadata": {
    "scrolled": true
   },
   "outputs": [
    {
     "data": {
      "text/html": [
       "<div>\n",
       "<style scoped>\n",
       "    .dataframe tbody tr th:only-of-type {\n",
       "        vertical-align: middle;\n",
       "    }\n",
       "\n",
       "    .dataframe tbody tr th {\n",
       "        vertical-align: top;\n",
       "    }\n",
       "\n",
       "    .dataframe thead th {\n",
       "        text-align: right;\n",
       "    }\n",
       "</style>\n",
       "<table border=\"1\" class=\"dataframe\">\n",
       "  <thead>\n",
       "    <tr style=\"text-align: right;\">\n",
       "      <th></th>\n",
       "      <th>Month</th>\n",
       "      <th>practice_codes</th>\n",
       "      <th>Practice1</th>\n",
       "      <th>Practice2</th>\n",
       "      <th>Address1</th>\n",
       "      <th>Address2</th>\n",
       "      <th>City</th>\n",
       "      <th>Postcode</th>\n",
       "    </tr>\n",
       "  </thead>\n",
       "  <tbody>\n",
       "    <tr>\n",
       "      <th>0</th>\n",
       "      <td>201804</td>\n",
       "      <td>A81001</td>\n",
       "      <td>THE DENSHAM SURGERY</td>\n",
       "      <td>THE HEALTH CENTRE</td>\n",
       "      <td>LAWSON STREET</td>\n",
       "      <td>STOCKTON-ON-TEES</td>\n",
       "      <td>CLEVELAND</td>\n",
       "      <td>TS18 1HU</td>\n",
       "    </tr>\n",
       "    <tr>\n",
       "      <th>1</th>\n",
       "      <td>201804</td>\n",
       "      <td>A81002</td>\n",
       "      <td>QUEENS PARK MEDICAL CENTRE</td>\n",
       "      <td>QUEENS PARK MEDICAL CTR</td>\n",
       "      <td>FARRER STREET</td>\n",
       "      <td>STOCKTON ON TEES</td>\n",
       "      <td>CLEVELAND</td>\n",
       "      <td>TS18 2AW</td>\n",
       "    </tr>\n",
       "    <tr>\n",
       "      <th>2</th>\n",
       "      <td>201804</td>\n",
       "      <td>A81004</td>\n",
       "      <td>BLUEBELL MEDICAL CENTRE</td>\n",
       "      <td>TRIMDON AVENUE</td>\n",
       "      <td>ACKLAM</td>\n",
       "      <td>MIDDLESBROUGH</td>\n",
       "      <td></td>\n",
       "      <td>TS5 8SB</td>\n",
       "    </tr>\n",
       "    <tr>\n",
       "      <th>3</th>\n",
       "      <td>201804</td>\n",
       "      <td>A81005</td>\n",
       "      <td>SPRINGWOOD SURGERY</td>\n",
       "      <td>SPRINGWOOD SURGERY</td>\n",
       "      <td>RECTORY LANE</td>\n",
       "      <td>GUISBOROUGH</td>\n",
       "      <td></td>\n",
       "      <td>TS14 7DJ</td>\n",
       "    </tr>\n",
       "    <tr>\n",
       "      <th>4</th>\n",
       "      <td>201804</td>\n",
       "      <td>A81006</td>\n",
       "      <td>TENNANT STREET MEDICAL PRACTICE</td>\n",
       "      <td>TENNANT ST MEDICAL PRACT</td>\n",
       "      <td>TENNANT STREET</td>\n",
       "      <td>STOCKTON-ON-TEES</td>\n",
       "      <td>CLEVELAND</td>\n",
       "      <td>TS18 2AT</td>\n",
       "    </tr>\n",
       "  </tbody>\n",
       "</table>\n",
       "</div>"
      ],
      "text/plain": [
       "    Month practice_codes                                 Practice1  \\\n",
       "0  201804         A81001  THE DENSHAM SURGERY                        \n",
       "1  201804         A81002  QUEENS PARK MEDICAL CENTRE                 \n",
       "2  201804         A81004  BLUEBELL MEDICAL CENTRE                    \n",
       "3  201804         A81005  SPRINGWOOD SURGERY                         \n",
       "4  201804         A81006  TENNANT STREET MEDICAL PRACTICE            \n",
       "\n",
       "                   Practice2                   Address1  \\\n",
       "0  THE HEALTH CENTRE          LAWSON STREET               \n",
       "1  QUEENS PARK MEDICAL CTR    FARRER STREET               \n",
       "2  TRIMDON AVENUE             ACKLAM                      \n",
       "3  SPRINGWOOD SURGERY         RECTORY LANE                \n",
       "4  TENNANT ST MEDICAL PRACT   TENNANT STREET              \n",
       "\n",
       "                    Address2                       City  Postcode  \n",
       "0  STOCKTON-ON-TEES           CLEVELAND                  TS18 1HU  \n",
       "1  STOCKTON ON TEES           CLEVELAND                  TS18 2AW  \n",
       "2  MIDDLESBROUGH                                         TS5 8SB   \n",
       "3  GUISBOROUGH                                           TS14 7DJ  \n",
       "4  STOCKTON-ON-TEES           CLEVELAND                  TS18 2AT  "
      ]
     },
     "execution_count": 2,
     "metadata": {},
     "output_type": "execute_result"
    }
   ],
   "source": [
    "#use codes_names_address.CSV as data1\n",
    "data1 = pd.read_csv('/Users/Liujianyu/Desktop/DMHR/Final_assignment/T201804ADDR BNFT.CSV', header= None, names = ['Month','practice_codes','Practice1','Practice2','Address1','Address2','City','Postcode'])\n",
    "data1.head()"
   ]
  },
  {
   "cell_type": "markdown",
   "metadata": {},
   "source": [
    "#### To identify all GP practices located in London, we need to formulate the rule to support us. In the file ‘codes_names_address.CSV', we could find practice address, city and postcode. When we check the information, we could find some noisy data result in the variable 'city' is empty and the information about the city is provided in the address. We could also find some round outside London is named as 'London'. After considering all the potential noisy data, the rule could be explained as identify the row which the variable 'Address2' or 'City' equal 'LONDON'. Based on this rule, we could identify all GP practices located in London, and the total number of it is 929."
   ]
  },
  {
   "cell_type": "code",
   "execution_count": 3,
   "metadata": {
    "scrolled": true
   },
   "outputs": [
    {
     "data": {
      "text/html": [
       "<div>\n",
       "<style scoped>\n",
       "    .dataframe tbody tr th:only-of-type {\n",
       "        vertical-align: middle;\n",
       "    }\n",
       "\n",
       "    .dataframe tbody tr th {\n",
       "        vertical-align: top;\n",
       "    }\n",
       "\n",
       "    .dataframe thead th {\n",
       "        text-align: right;\n",
       "    }\n",
       "</style>\n",
       "<table border=\"1\" class=\"dataframe\">\n",
       "  <thead>\n",
       "    <tr style=\"text-align: right;\">\n",
       "      <th></th>\n",
       "      <th>practice_codes</th>\n",
       "      <th>Address2</th>\n",
       "      <th>City</th>\n",
       "    </tr>\n",
       "  </thead>\n",
       "  <tbody>\n",
       "    <tr>\n",
       "      <th>1873</th>\n",
       "      <td>E83003</td>\n",
       "      <td>WHETSTONE</td>\n",
       "      <td>LONDON</td>\n",
       "    </tr>\n",
       "    <tr>\n",
       "      <th>1874</th>\n",
       "      <td>E83005</td>\n",
       "      <td>FINCHLEY</td>\n",
       "      <td>LONDON</td>\n",
       "    </tr>\n",
       "    <tr>\n",
       "      <th>1875</th>\n",
       "      <td>E83006</td>\n",
       "      <td>CRICKLEWOOD</td>\n",
       "      <td>LONDON</td>\n",
       "    </tr>\n",
       "    <tr>\n",
       "      <th>1876</th>\n",
       "      <td>E83007</td>\n",
       "      <td>FINCHLEY</td>\n",
       "      <td>LONDON</td>\n",
       "    </tr>\n",
       "    <tr>\n",
       "      <th>1877</th>\n",
       "      <td>E83008</td>\n",
       "      <td>BARNET</td>\n",
       "      <td>LONDON</td>\n",
       "    </tr>\n",
       "  </tbody>\n",
       "</table>\n",
       "</div>"
      ],
      "text/plain": [
       "     practice_codes     Address2    City\n",
       "1873         E83003    WHETSTONE  LONDON\n",
       "1874         E83005     FINCHLEY  LONDON\n",
       "1875         E83006  CRICKLEWOOD  LONDON\n",
       "1876         E83007     FINCHLEY  LONDON\n",
       "1877         E83008       BARNET  LONDON"
      ]
     },
     "execution_count": 3,
     "metadata": {},
     "output_type": "execute_result"
    }
   ],
   "source": [
    "# create a dataframe including all the practices in London\n",
    "data1_1 = data1[['practice_codes','Address2','City']]\n",
    "new_city = data1_1['City'].str.strip()\n",
    "new_address = data1_1['Address2'].str.strip()\n",
    "data1_2 = data1_1.copy()\n",
    "data1_2['City'] = new_city\n",
    "data1_2['Address2'] = new_address\n",
    "London_Code = data1_2.loc[(data1_2['City'] == 'LONDON') | (data1_2['Address2'] == 'LONDON')]\n",
    "London_Code.head()"
   ]
  },
  {
   "cell_type": "code",
   "execution_count": 4,
   "metadata": {},
   "outputs": [
    {
     "data": {
      "text/plain": [
       "929"
      ]
     },
     "execution_count": 4,
     "metadata": {},
     "output_type": "execute_result"
    }
   ],
   "source": [
    "# count the number of practices in London\n",
    "London_Code.practice_codes.count()"
   ]
  },
  {
   "cell_type": "code",
   "execution_count": 5,
   "metadata": {},
   "outputs": [
    {
     "data": {
      "text/html": [
       "<div>\n",
       "<style scoped>\n",
       "    .dataframe tbody tr th:only-of-type {\n",
       "        vertical-align: middle;\n",
       "    }\n",
       "\n",
       "    .dataframe tbody tr th {\n",
       "        vertical-align: top;\n",
       "    }\n",
       "\n",
       "    .dataframe thead th {\n",
       "        text-align: right;\n",
       "    }\n",
       "</style>\n",
       "<table border=\"1\" class=\"dataframe\">\n",
       "  <thead>\n",
       "    <tr style=\"text-align: right;\">\n",
       "      <th></th>\n",
       "      <th>PUBLICATION</th>\n",
       "      <th>EXTRACT_DATE</th>\n",
       "      <th>TYPE</th>\n",
       "      <th>CCG_CODE</th>\n",
       "      <th>ONS_CCG_CODE</th>\n",
       "      <th>CODE</th>\n",
       "      <th>POSTCODE</th>\n",
       "      <th>SEX</th>\n",
       "      <th>AGE</th>\n",
       "      <th>NUMBER_OF_PATIENTS</th>\n",
       "    </tr>\n",
       "  </thead>\n",
       "  <tbody>\n",
       "    <tr>\n",
       "      <th>0</th>\n",
       "      <td>GP_PRAC_PAT_LIST</td>\n",
       "      <td>01APR2018</td>\n",
       "      <td>GP</td>\n",
       "      <td>00C</td>\n",
       "      <td>E38000042</td>\n",
       "      <td>A83005</td>\n",
       "      <td>DL1 3RT</td>\n",
       "      <td>ALL</td>\n",
       "      <td>ALL</td>\n",
       "      <td>11826</td>\n",
       "    </tr>\n",
       "    <tr>\n",
       "      <th>1</th>\n",
       "      <td>GP_PRAC_PAT_LIST</td>\n",
       "      <td>01APR2018</td>\n",
       "      <td>GP</td>\n",
       "      <td>00C</td>\n",
       "      <td>E38000042</td>\n",
       "      <td>A83006</td>\n",
       "      <td>DL3 6HZ</td>\n",
       "      <td>ALL</td>\n",
       "      <td>ALL</td>\n",
       "      <td>8044</td>\n",
       "    </tr>\n",
       "    <tr>\n",
       "      <th>2</th>\n",
       "      <td>GP_PRAC_PAT_LIST</td>\n",
       "      <td>01APR2018</td>\n",
       "      <td>GP</td>\n",
       "      <td>00C</td>\n",
       "      <td>E38000042</td>\n",
       "      <td>A83010</td>\n",
       "      <td>DL3 9JP</td>\n",
       "      <td>ALL</td>\n",
       "      <td>ALL</td>\n",
       "      <td>14070</td>\n",
       "    </tr>\n",
       "    <tr>\n",
       "      <th>3</th>\n",
       "      <td>GP_PRAC_PAT_LIST</td>\n",
       "      <td>01APR2018</td>\n",
       "      <td>GP</td>\n",
       "      <td>00C</td>\n",
       "      <td>E38000042</td>\n",
       "      <td>A83013</td>\n",
       "      <td>DL1 4YL</td>\n",
       "      <td>ALL</td>\n",
       "      <td>ALL</td>\n",
       "      <td>11298</td>\n",
       "    </tr>\n",
       "    <tr>\n",
       "      <th>4</th>\n",
       "      <td>GP_PRAC_PAT_LIST</td>\n",
       "      <td>01APR2018</td>\n",
       "      <td>GP</td>\n",
       "      <td>00C</td>\n",
       "      <td>E38000042</td>\n",
       "      <td>A83031</td>\n",
       "      <td>DL3 8SQ</td>\n",
       "      <td>ALL</td>\n",
       "      <td>ALL</td>\n",
       "      <td>10109</td>\n",
       "    </tr>\n",
       "  </tbody>\n",
       "</table>\n",
       "</div>"
      ],
      "text/plain": [
       "        PUBLICATION EXTRACT_DATE TYPE CCG_CODE ONS_CCG_CODE    CODE POSTCODE  \\\n",
       "0  GP_PRAC_PAT_LIST    01APR2018   GP      00C    E38000042  A83005  DL1 3RT   \n",
       "1  GP_PRAC_PAT_LIST    01APR2018   GP      00C    E38000042  A83006  DL3 6HZ   \n",
       "2  GP_PRAC_PAT_LIST    01APR2018   GP      00C    E38000042  A83010  DL3 9JP   \n",
       "3  GP_PRAC_PAT_LIST    01APR2018   GP      00C    E38000042  A83013  DL1 4YL   \n",
       "4  GP_PRAC_PAT_LIST    01APR2018   GP      00C    E38000042  A83031  DL3 8SQ   \n",
       "\n",
       "   SEX  AGE  NUMBER_OF_PATIENTS  \n",
       "0  ALL  ALL               11826  \n",
       "1  ALL  ALL                8044  \n",
       "2  ALL  ALL               14070  \n",
       "3  ALL  ALL               11298  \n",
       "4  ALL  ALL               10109  "
      ]
     },
     "execution_count": 5,
     "metadata": {},
     "output_type": "execute_result"
    }
   ],
   "source": [
    "#use gp-reg-pat-prac-all.CSV as data2\n",
    "data2 = pd.read_csv('/Users/Liujianyu/Desktop/DMHR/Final_assignment/gp-reg-pat-prac-all.CSV' , index_col=False)\n",
    "data2.head()"
   ]
  },
  {
   "cell_type": "markdown",
   "metadata": {},
   "source": [
    "#### The next step is calculating the total number of patients registered.  We need to use the file ‘gp-reg-pat-prac-all.CSV' which including the number of patients in each practice. The list of practices in London can help us identify the targets. We need to summarize the number of patients and the result is 5,841,956. "
   ]
  },
  {
   "cell_type": "code",
   "execution_count": 6,
   "metadata": {},
   "outputs": [
    {
     "data": {
      "text/plain": [
       "5841956"
      ]
     },
     "execution_count": 6,
     "metadata": {},
     "output_type": "execute_result"
    }
   ],
   "source": [
    "#summarize the total number of patients registered in London\n",
    "list1 = London_Code['practice_codes'].tolist()\n",
    "list2 = data2.CODE.isin(list1) #identify the practice code which is in London\n",
    "data2_1 = data2.copy()\n",
    "data2_1['JUDGE'] = list2 #add the result of judgment in to the list\n",
    "data2_1.loc[data2_1['JUDGE'] == 1].NUMBER_OF_PATIENTS.sum()"
   ]
  },
  {
   "cell_type": "code",
   "execution_count": 7,
   "metadata": {
    "scrolled": true
   },
   "outputs": [
    {
     "data": {
      "text/html": [
       "<div>\n",
       "<style scoped>\n",
       "    .dataframe tbody tr th:only-of-type {\n",
       "        vertical-align: middle;\n",
       "    }\n",
       "\n",
       "    .dataframe tbody tr th {\n",
       "        vertical-align: top;\n",
       "    }\n",
       "\n",
       "    .dataframe thead th {\n",
       "        text-align: right;\n",
       "    }\n",
       "</style>\n",
       "<table border=\"1\" class=\"dataframe\">\n",
       "  <thead>\n",
       "    <tr style=\"text-align: right;\">\n",
       "      <th></th>\n",
       "      <th>SHA</th>\n",
       "      <th>PCT</th>\n",
       "      <th>PRACTICE</th>\n",
       "      <th>BNF_CODE</th>\n",
       "      <th>BNF_NAME</th>\n",
       "      <th>ITEMS</th>\n",
       "      <th>NIC</th>\n",
       "      <th>ACT_COST</th>\n",
       "      <th>QUANTITY</th>\n",
       "      <th>PERIOD</th>\n",
       "      <th></th>\n",
       "    </tr>\n",
       "  </thead>\n",
       "  <tbody>\n",
       "    <tr>\n",
       "      <th>0</th>\n",
       "      <td>Q44</td>\n",
       "      <td>RTV</td>\n",
       "      <td>Y04937</td>\n",
       "      <td>0401010Z0AAAAAA</td>\n",
       "      <td>Zopiclone_Tab 7.5mg</td>\n",
       "      <td>6</td>\n",
       "      <td>1.56</td>\n",
       "      <td>2.12</td>\n",
       "      <td>63</td>\n",
       "      <td>201804</td>\n",
       "      <td></td>\n",
       "    </tr>\n",
       "    <tr>\n",
       "      <th>1</th>\n",
       "      <td>Q44</td>\n",
       "      <td>RTV</td>\n",
       "      <td>Y04937</td>\n",
       "      <td>0401020K0AAAHAH</td>\n",
       "      <td>Diazepam_Tab 2mg</td>\n",
       "      <td>4</td>\n",
       "      <td>0.87</td>\n",
       "      <td>1.15</td>\n",
       "      <td>73</td>\n",
       "      <td>201804</td>\n",
       "      <td></td>\n",
       "    </tr>\n",
       "    <tr>\n",
       "      <th>2</th>\n",
       "      <td>Q44</td>\n",
       "      <td>RTV</td>\n",
       "      <td>Y04937</td>\n",
       "      <td>0401020K0AAAIAI</td>\n",
       "      <td>Diazepam_Tab 5mg</td>\n",
       "      <td>2</td>\n",
       "      <td>0.46</td>\n",
       "      <td>0.56</td>\n",
       "      <td>35</td>\n",
       "      <td>201804</td>\n",
       "      <td></td>\n",
       "    </tr>\n",
       "    <tr>\n",
       "      <th>3</th>\n",
       "      <td>Q44</td>\n",
       "      <td>RTV</td>\n",
       "      <td>Y04937</td>\n",
       "      <td>0402010ABAAABAB</td>\n",
       "      <td>Quetiapine_Tab 25mg</td>\n",
       "      <td>1</td>\n",
       "      <td>2.60</td>\n",
       "      <td>2.52</td>\n",
       "      <td>14</td>\n",
       "      <td>201804</td>\n",
       "      <td></td>\n",
       "    </tr>\n",
       "    <tr>\n",
       "      <th>4</th>\n",
       "      <td>Q44</td>\n",
       "      <td>RTV</td>\n",
       "      <td>Y04937</td>\n",
       "      <td>0402010ADAAAAAA</td>\n",
       "      <td>Aripiprazole_Tab 10mg</td>\n",
       "      <td>1</td>\n",
       "      <td>1.53</td>\n",
       "      <td>1.53</td>\n",
       "      <td>14</td>\n",
       "      <td>201804</td>\n",
       "      <td></td>\n",
       "    </tr>\n",
       "  </tbody>\n",
       "</table>\n",
       "</div>"
      ],
      "text/plain": [
       "   SHA  PCT PRACTICE         BNF_CODE  \\\n",
       "0  Q44  RTV   Y04937  0401010Z0AAAAAA   \n",
       "1  Q44  RTV   Y04937  0401020K0AAAHAH   \n",
       "2  Q44  RTV   Y04937  0401020K0AAAIAI   \n",
       "3  Q44  RTV   Y04937  0402010ABAAABAB   \n",
       "4  Q44  RTV   Y04937  0402010ADAAAAAA   \n",
       "\n",
       "                                   BNF_NAME  ITEMS    NIC          ACT_COST  \\\n",
       "0  Zopiclone_Tab 7.5mg                             6         1.56      2.12   \n",
       "1  Diazepam_Tab 2mg                                4         0.87      1.15   \n",
       "2  Diazepam_Tab 5mg                                2         0.46      0.56   \n",
       "3  Quetiapine_Tab 25mg                             1         2.60      2.52   \n",
       "4  Aripiprazole_Tab 10mg                           1         1.53      1.53   \n",
       "\n",
       "   QUANTITY  PERIOD                      \n",
       "0        63  201804                      \n",
       "1        73  201804                      \n",
       "2        35  201804                      \n",
       "3        14  201804                      \n",
       "4        14  201804                      "
      ]
     },
     "execution_count": 7,
     "metadata": {},
     "output_type": "execute_result"
    }
   ],
   "source": [
    "#use Practice_prescribing.CSV as data3\n",
    "data3 = pd.read_csv('/Users/Liujianyu/Desktop/DMHR/Final_assignment/T201804PDPI BNFT.CSV' , index_col=False)\n",
    "data3.rename(columns = {'BNF CODE':'BNF_CODE','ACT COST   ':'ACT_COST','BNF NAME                                    ':'BNF_NAME'}, inplace = True)\n",
    "data3.head()"
   ]
  },
  {
   "cell_type": "markdown",
   "metadata": {},
   "source": [
    "#### In order to identify the total number of prescriptions, the file ‘Practice_prescribing.CSV' can be used and we also need to identify the practice in London by the list. The variable ‘QUANTITY' is mean the total quantity of each prescription in each practice code during April. So we can summarize the variable ‘QUANTITY', and the result ‘510136987' is mean the total number of prescriptions. "
   ]
  },
  {
   "cell_type": "code",
   "execution_count": 8,
   "metadata": {},
   "outputs": [
    {
     "data": {
      "text/plain": [
       "510136987"
      ]
     },
     "execution_count": 8,
     "metadata": {},
     "output_type": "execute_result"
    }
   ],
   "source": [
    "#summarize the total number of prescriptions in London\n",
    "list3 = data3.PRACTICE.isin(list1) #identify the practice code which is in London\n",
    "data3_1 = data3.copy()\n",
    "data3_1['JUDGE'] = list3 #add the result of judgment in to the list\n",
    "London = data3_1.loc[data3_1['JUDGE'] == 1]\n",
    "London.QUANTITY.sum()"
   ]
  },
  {
   "cell_type": "markdown",
   "metadata": {},
   "source": [
    "#### Similarly, the total actual cost of these prescriptions can be calculated by summarizing the variable ‘ACT_COST'. The total actual cost is 43322000.54."
   ]
  },
  {
   "cell_type": "code",
   "execution_count": 9,
   "metadata": {},
   "outputs": [
    {
     "data": {
      "text/plain": [
       "43322000.54"
      ]
     },
     "execution_count": 9,
     "metadata": {},
     "output_type": "execute_result"
    }
   ],
   "source": [
    "#summarize the total actual cost of prescriptions in London\n",
    "London.ACT_COST.sum()"
   ]
  },
  {
   "cell_type": "markdown",
   "metadata": {},
   "source": [
    "#### The top 10 most frequent drugs prescribed is descending sorted by the summarized result of ‘QUANTITY'. In the table we could find the most common drugs is ‘Ensure Plus_Milkshake Style’ and the frequency of it is much higher than the second one (It was used for 17023232 times in April). It is a ready-to-drink, milkshake style oral nutritional supplement for people with, or at risk of developing disease-related malnutrition. The third highest frequency drug is ‘Fortisip Compact_Liq’ which is similar to ‘Ensure Plus_Milkshake Style’. We can infer that people with disease-related malnutrition account for a large proportion of the population. The second one is ‘Metformin HCl_Tab 500mg’ which the first-line medication for the treatment of type 2 diabetes, particularly in people who are overweight. Diabetes is also a high-frequency disease in London."
   ]
  },
  {
   "cell_type": "code",
   "execution_count": 10,
   "metadata": {
    "scrolled": true
   },
   "outputs": [
    {
     "data": {
      "text/html": [
       "<div>\n",
       "<style scoped>\n",
       "    .dataframe tbody tr th:only-of-type {\n",
       "        vertical-align: middle;\n",
       "    }\n",
       "\n",
       "    .dataframe tbody tr th {\n",
       "        vertical-align: top;\n",
       "    }\n",
       "\n",
       "    .dataframe thead th {\n",
       "        text-align: right;\n",
       "    }\n",
       "</style>\n",
       "<table border=\"1\" class=\"dataframe\">\n",
       "  <thead>\n",
       "    <tr style=\"text-align: right;\">\n",
       "      <th></th>\n",
       "      <th>BNF_CODE</th>\n",
       "      <th>ITEMS</th>\n",
       "      <th>NIC</th>\n",
       "      <th>ACT_COST</th>\n",
       "      <th>QUANTITY</th>\n",
       "      <th>PERIOD</th>\n",
       "      <th>JUDGE</th>\n",
       "      <th>BNF_NAME</th>\n",
       "    </tr>\n",
       "  </thead>\n",
       "  <tbody>\n",
       "    <tr>\n",
       "      <th>525734</th>\n",
       "      <td>090402000BBRRA0</td>\n",
       "      <td>4477</td>\n",
       "      <td>96281.92</td>\n",
       "      <td>91808.65</td>\n",
       "      <td>17023232</td>\n",
       "      <td>93838860</td>\n",
       "      <td>465.0</td>\n",
       "      <td>Ensure Plus_Milkshake Style Liq (9 Flav)</td>\n",
       "    </tr>\n",
       "    <tr>\n",
       "      <th>412315</th>\n",
       "      <td>0601022B0AAABAB</td>\n",
       "      <td>121063</td>\n",
       "      <td>376329.40</td>\n",
       "      <td>353102.30</td>\n",
       "      <td>11706703</td>\n",
       "      <td>158819748</td>\n",
       "      <td>787.0</td>\n",
       "      <td>Metformin HCl_Tab 500mg</td>\n",
       "    </tr>\n",
       "    <tr>\n",
       "      <th>521330</th>\n",
       "      <td>090402000BBAJA0</td>\n",
       "      <td>3655</td>\n",
       "      <td>58826.88</td>\n",
       "      <td>55067.39</td>\n",
       "      <td>10217184</td>\n",
       "      <td>62155632</td>\n",
       "      <td>308.0</td>\n",
       "      <td>Fortisip Bottle_Liq (8 Flav)</td>\n",
       "    </tr>\n",
       "    <tr>\n",
       "      <th>35953</th>\n",
       "      <td>0106040G0AAAAAA</td>\n",
       "      <td>17330</td>\n",
       "      <td>43081.00</td>\n",
       "      <td>40654.65</td>\n",
       "      <td>9283922</td>\n",
       "      <td>157205316</td>\n",
       "      <td>779.0</td>\n",
       "      <td>Lactulose_Soln 3.1g-3.7g/5ml</td>\n",
       "    </tr>\n",
       "    <tr>\n",
       "      <th>284742</th>\n",
       "      <td>0407010H0AAAMAM</td>\n",
       "      <td>74463</td>\n",
       "      <td>75152.42</td>\n",
       "      <td>72891.70</td>\n",
       "      <td>7690436</td>\n",
       "      <td>158819748</td>\n",
       "      <td>787.0</td>\n",
       "      <td>Paracet_Tab 500mg</td>\n",
       "    </tr>\n",
       "    <tr>\n",
       "      <th>640067</th>\n",
       "      <td>130201000BBICBW</td>\n",
       "      <td>11641</td>\n",
       "      <td>81147.40</td>\n",
       "      <td>75401.83</td>\n",
       "      <td>6717500</td>\n",
       "      <td>155389080</td>\n",
       "      <td>770.0</td>\n",
       "      <td>Dermol 500_Lot</td>\n",
       "    </tr>\n",
       "    <tr>\n",
       "      <th>528406</th>\n",
       "      <td>090402000BBVTA0</td>\n",
       "      <td>1247</td>\n",
       "      <td>71311.05</td>\n",
       "      <td>66923.85</td>\n",
       "      <td>6565947</td>\n",
       "      <td>74062068</td>\n",
       "      <td>367.0</td>\n",
       "      <td>Ensure Compact_Liq (4 Flav)</td>\n",
       "    </tr>\n",
       "    <tr>\n",
       "      <th>525315</th>\n",
       "      <td>090402000BBRMA0</td>\n",
       "      <td>830</td>\n",
       "      <td>69577.20</td>\n",
       "      <td>65085.19</td>\n",
       "      <td>6556352</td>\n",
       "      <td>34912092</td>\n",
       "      <td>173.0</td>\n",
       "      <td>Fresubin 2kcal_Drink (6 Flav)</td>\n",
       "    </tr>\n",
       "    <tr>\n",
       "      <th>526143</th>\n",
       "      <td>090402000BBSIA0</td>\n",
       "      <td>1166</td>\n",
       "      <td>63283.80</td>\n",
       "      <td>59344.98</td>\n",
       "      <td>5455500</td>\n",
       "      <td>55092492</td>\n",
       "      <td>273.0</td>\n",
       "      <td>Fortisip Compact_Liq (8 Flav)</td>\n",
       "    </tr>\n",
       "    <tr>\n",
       "      <th>17641</th>\n",
       "      <td>0103050P0AAAAAA</td>\n",
       "      <td>123310</td>\n",
       "      <td>100130.28</td>\n",
       "      <td>98762.26</td>\n",
       "      <td>4665483</td>\n",
       "      <td>163663044</td>\n",
       "      <td>811.0</td>\n",
       "      <td>Omeprazole_Cap E/C 20mg</td>\n",
       "    </tr>\n",
       "  </tbody>\n",
       "</table>\n",
       "</div>"
      ],
      "text/plain": [
       "               BNF_CODE  ITEMS    NIC           ACT_COST  QUANTITY     PERIOD  \\\n",
       "525734  090402000BBRRA0     4477     96281.92   91808.65  17023232   93838860   \n",
       "412315  0601022B0AAABAB   121063    376329.40  353102.30  11706703  158819748   \n",
       "521330  090402000BBAJA0     3655     58826.88   55067.39  10217184   62155632   \n",
       "35953   0106040G0AAAAAA    17330     43081.00   40654.65   9283922  157205316   \n",
       "284742  0407010H0AAAMAM    74463     75152.42   72891.70   7690436  158819748   \n",
       "640067  130201000BBICBW    11641     81147.40   75401.83   6717500  155389080   \n",
       "528406  090402000BBVTA0     1247     71311.05   66923.85   6565947   74062068   \n",
       "525315  090402000BBRMA0      830     69577.20   65085.19   6556352   34912092   \n",
       "526143  090402000BBSIA0     1166     63283.80   59344.98   5455500   55092492   \n",
       "17641   0103050P0AAAAAA   123310    100130.28   98762.26   4665483  163663044   \n",
       "\n",
       "        JUDGE                                  BNF_NAME  \n",
       "525734  465.0  Ensure Plus_Milkshake Style Liq (9 Flav)  \n",
       "412315  787.0  Metformin HCl_Tab 500mg                   \n",
       "521330  308.0  Fortisip Bottle_Liq (8 Flav)              \n",
       "35953   779.0  Lactulose_Soln 3.1g-3.7g/5ml              \n",
       "284742  787.0  Paracet_Tab 500mg                         \n",
       "640067  770.0  Dermol 500_Lot                            \n",
       "528406  367.0  Ensure Compact_Liq (4 Flav)               \n",
       "525315  173.0  Fresubin 2kcal_Drink (6 Flav)             \n",
       "526143  273.0  Fortisip Compact_Liq (8 Flav)             \n",
       "17641   811.0  Omeprazole_Cap E/C 20mg                   "
      ]
     },
     "execution_count": 10,
     "metadata": {},
     "output_type": "execute_result"
    }
   ],
   "source": [
    "#the top 10 most frequent drugs prescribed in London\n",
    "London_Count = London.groupby(['BNF_CODE']).sum()\n",
    "London_Count_1 = London_Count.merge(London[['BNF_CODE','BNF_NAME']], on = 'BNF_CODE',how = 'left') #add BNF_NAME\n",
    "London_Count_2 = London_Count_1.sort_values(by='QUANTITY', ascending=False)\n",
    "London_Count_2.drop_duplicates(subset=['BNF_CODE'], keep='first').head(10)"
   ]
  },
  {
   "cell_type": "markdown",
   "metadata": {},
   "source": [
    "#### The bottom 10 less common drugs are variety because there are many drugs which are only used for one time in April. The number of medications used one time in April is 297, and there also have a drug exist in the list but ‘QUANTITY' is 0, and it is a noisy data."
   ]
  },
  {
   "cell_type": "code",
   "execution_count": 11,
   "metadata": {},
   "outputs": [
    {
     "data": {
      "text/html": [
       "<div>\n",
       "<style scoped>\n",
       "    .dataframe tbody tr th:only-of-type {\n",
       "        vertical-align: middle;\n",
       "    }\n",
       "\n",
       "    .dataframe tbody tr th {\n",
       "        vertical-align: top;\n",
       "    }\n",
       "\n",
       "    .dataframe thead th {\n",
       "        text-align: right;\n",
       "    }\n",
       "</style>\n",
       "<table border=\"1\" class=\"dataframe\">\n",
       "  <thead>\n",
       "    <tr style=\"text-align: right;\">\n",
       "      <th></th>\n",
       "      <th>BNF_CODE</th>\n",
       "      <th>ITEMS</th>\n",
       "      <th>NIC</th>\n",
       "      <th>ACT_COST</th>\n",
       "      <th>QUANTITY</th>\n",
       "      <th>PERIOD</th>\n",
       "      <th>JUDGE</th>\n",
       "      <th>BNF_NAME</th>\n",
       "    </tr>\n",
       "  </thead>\n",
       "  <tbody>\n",
       "    <tr>\n",
       "      <th>498183</th>\n",
       "      <td>0801030P0AAFIFI</td>\n",
       "      <td>1</td>\n",
       "      <td>13.37</td>\n",
       "      <td>12.41</td>\n",
       "      <td>0</td>\n",
       "      <td>201804</td>\n",
       "      <td>1.0</td>\n",
       "      <td>Methotrexate_Inj 7.5mg/0.3ml Pfs</td>\n",
       "    </tr>\n",
       "    <tr>\n",
       "      <th>706303</th>\n",
       "      <td>1404000AGBBACAC</td>\n",
       "      <td>1</td>\n",
       "      <td>34.76</td>\n",
       "      <td>32.24</td>\n",
       "      <td>1</td>\n",
       "      <td>201804</td>\n",
       "      <td>1.0</td>\n",
       "      <td>Rotarix_Live (Oral) VacSusp 1.5ml Tube</td>\n",
       "    </tr>\n",
       "    <tr>\n",
       "      <th>725113</th>\n",
       "      <td>20031400045</td>\n",
       "      <td>1</td>\n",
       "      <td>17.70</td>\n",
       "      <td>16.43</td>\n",
       "      <td>1</td>\n",
       "      <td>201804</td>\n",
       "      <td>1.0</td>\n",
       "      <td>NewGel+E Gel 15g Wound Dress Slc</td>\n",
       "    </tr>\n",
       "    <tr>\n",
       "      <th>725148</th>\n",
       "      <td>20031400062</td>\n",
       "      <td>1</td>\n",
       "      <td>59.43</td>\n",
       "      <td>55.13</td>\n",
       "      <td>1</td>\n",
       "      <td>201804</td>\n",
       "      <td>1.0</td>\n",
       "      <td>Alhydran Crm 250ml Wound Dress</td>\n",
       "    </tr>\n",
       "    <tr>\n",
       "      <th>185381</th>\n",
       "      <td>0302000K0BIAAAU</td>\n",
       "      <td>1</td>\n",
       "      <td>26.99</td>\n",
       "      <td>25.04</td>\n",
       "      <td>1</td>\n",
       "      <td>201804</td>\n",
       "      <td>1.0</td>\n",
       "      <td>Fobumix_Easyhaler 320mcg/9mcg (60 D)</td>\n",
       "    </tr>\n",
       "    <tr>\n",
       "      <th>775722</th>\n",
       "      <td>21270000194</td>\n",
       "      <td>1</td>\n",
       "      <td>20.28</td>\n",
       "      <td>18.82</td>\n",
       "      <td>1</td>\n",
       "      <td>201804</td>\n",
       "      <td>1.0</td>\n",
       "      <td>Jobst Bella Lite Class 2 A/Sleeve + Slc</td>\n",
       "    </tr>\n",
       "    <tr>\n",
       "      <th>775720</th>\n",
       "      <td>21270000191</td>\n",
       "      <td>1</td>\n",
       "      <td>19.21</td>\n",
       "      <td>17.83</td>\n",
       "      <td>1</td>\n",
       "      <td>201804</td>\n",
       "      <td>1.0</td>\n",
       "      <td>Jobst Bella Lite Class 1 A/Sleeve + Slc</td>\n",
       "    </tr>\n",
       "    <tr>\n",
       "      <th>707062</th>\n",
       "      <td>1404000H0AAAFAF</td>\n",
       "      <td>1</td>\n",
       "      <td>6.59</td>\n",
       "      <td>6.12</td>\n",
       "      <td>1</td>\n",
       "      <td>201804</td>\n",
       "      <td>1.0</td>\n",
       "      <td>Influenza_Vac Surf/Antgn Inact 0.5ml Pfs</td>\n",
       "    </tr>\n",
       "    <tr>\n",
       "      <th>719902</th>\n",
       "      <td>20030100505</td>\n",
       "      <td>1</td>\n",
       "      <td>8.95</td>\n",
       "      <td>8.31</td>\n",
       "      <td>1</td>\n",
       "      <td>201804</td>\n",
       "      <td>1.0</td>\n",
       "      <td>Hypafix Transpt 10cm x 2m VP Adh Film Dr</td>\n",
       "    </tr>\n",
       "    <tr>\n",
       "      <th>776713</th>\n",
       "      <td>21270001426</td>\n",
       "      <td>1</td>\n",
       "      <td>6.11</td>\n",
       "      <td>5.67</td>\n",
       "      <td>1</td>\n",
       "      <td>201804</td>\n",
       "      <td>1.0</td>\n",
       "      <td>Juzo Expert Custom Fit Acc For L/Limb Ov</td>\n",
       "    </tr>\n",
       "  </tbody>\n",
       "</table>\n",
       "</div>"
      ],
      "text/plain": [
       "               BNF_CODE  ITEMS    NIC          ACT_COST  QUANTITY  PERIOD  \\\n",
       "498183  0801030P0AAFIFI        1        13.37     12.41         0  201804   \n",
       "706303  1404000AGBBACAC        1        34.76     32.24         1  201804   \n",
       "725113  20031400045            1        17.70     16.43         1  201804   \n",
       "725148  20031400062            1        59.43     55.13         1  201804   \n",
       "185381  0302000K0BIAAAU        1        26.99     25.04         1  201804   \n",
       "775722  21270000194            1        20.28     18.82         1  201804   \n",
       "775720  21270000191            1        19.21     17.83         1  201804   \n",
       "707062  1404000H0AAAFAF        1         6.59      6.12         1  201804   \n",
       "719902  20030100505            1         8.95      8.31         1  201804   \n",
       "776713  21270001426            1         6.11      5.67         1  201804   \n",
       "\n",
       "        JUDGE                                  BNF_NAME  \n",
       "498183    1.0  Methotrexate_Inj 7.5mg/0.3ml Pfs          \n",
       "706303    1.0  Rotarix_Live (Oral) VacSusp 1.5ml Tube    \n",
       "725113    1.0  NewGel+E Gel 15g Wound Dress Slc          \n",
       "725148    1.0  Alhydran Crm 250ml Wound Dress            \n",
       "185381    1.0  Fobumix_Easyhaler 320mcg/9mcg (60 D)      \n",
       "775722    1.0  Jobst Bella Lite Class 2 A/Sleeve + Slc   \n",
       "775720    1.0  Jobst Bella Lite Class 1 A/Sleeve + Slc   \n",
       "707062    1.0  Influenza_Vac Surf/Antgn Inact 0.5ml Pfs  \n",
       "719902    1.0  Hypafix Transpt 10cm x 2m VP Adh Film Dr  \n",
       "776713    1.0  Juzo Expert Custom Fit Acc For L/Limb Ov  "
      ]
     },
     "execution_count": 11,
     "metadata": {},
     "output_type": "execute_result"
    }
   ],
   "source": [
    "#the bottom 10 less frequent drugs prescribed in London\n",
    "London_Count_3 = London_Count_1.sort_values(by='QUANTITY', ascending=True)\n",
    "London_Count_3.drop_duplicates(subset=['BNF_CODE'], keep='first').head(10)"
   ]
  },
  {
   "cell_type": "markdown",
   "metadata": {},
   "source": [
    "<font color=Blue size=10 > Assignment_A_2 </font>"
   ]
  },
  {
   "cell_type": "markdown",
   "metadata": {},
   "source": [
    "#### In Cambridge, the total number of patients registered is 311579, and there have 36 GP practices. The total number of prescriptions is 25232152, and the total actual cost is 2434403.94. In the top 10 most frequent drugs, nutrition is the most significant proportion of them, and this kind of drugs ranked 1, 2 and 4 in the list. The demand for is ‘Metformin HCl_Tab 500mg’ only ranked 9 and ‘Paracet_Tab 500mg’ for fever and ‘Dermol 500_Lot’ for skin condition ranked 3 and 5."
   ]
  },
  {
   "cell_type": "code",
   "execution_count": 12,
   "metadata": {},
   "outputs": [
    {
     "data": {
      "text/plain": [
       "36"
      ]
     },
     "execution_count": 12,
     "metadata": {},
     "output_type": "execute_result"
    }
   ],
   "source": [
    "#count the number of practices in Cambridge\n",
    "Cambridge_Code = data1_2.loc[(data1_2['City'] == 'CAMBRIDGE') | (data1_2['Address2'] == 'CAMBRIDGE')]\n",
    "Cambridge_Code.practice_codes.count()"
   ]
  },
  {
   "cell_type": "code",
   "execution_count": 13,
   "metadata": {},
   "outputs": [
    {
     "data": {
      "text/plain": [
       "311579"
      ]
     },
     "execution_count": 13,
     "metadata": {},
     "output_type": "execute_result"
    }
   ],
   "source": [
    "#summarize the total number of patients registered in Cambridge\n",
    "list4 = Cambridge_Code['practice_codes'].tolist()\n",
    "list5 = data2.CODE.isin(list4) #identify the practice code which is in Cambridge\n",
    "data2_2 = data2.copy()\n",
    "data2_2['JUDGE'] = list5 #add the result of judgment in to the list\n",
    "data2_2.loc[data2_2['JUDGE'] == 1].NUMBER_OF_PATIENTS.sum()"
   ]
  },
  {
   "cell_type": "code",
   "execution_count": 14,
   "metadata": {},
   "outputs": [
    {
     "data": {
      "text/plain": [
       "25232152"
      ]
     },
     "execution_count": 14,
     "metadata": {},
     "output_type": "execute_result"
    }
   ],
   "source": [
    "#summarize the total number of prescriptions in Cambridge\n",
    "list6 = data3.PRACTICE.isin(list4) #identify the practice code which is in Cambridge\n",
    "data3_2 = data3.copy()\n",
    "data3_2['JUDGE'] = list6 #add the result of judgment in to the list\n",
    "Cambridge = data3_2.loc[data3_2['JUDGE'] == 1]\n",
    "Cambridge.QUANTITY.sum()"
   ]
  },
  {
   "cell_type": "code",
   "execution_count": 15,
   "metadata": {},
   "outputs": [
    {
     "data": {
      "text/plain": [
       "2434403.94"
      ]
     },
     "execution_count": 15,
     "metadata": {},
     "output_type": "execute_result"
    }
   ],
   "source": [
    "#summarize the total actual cost of prescriptions in Cambridge\n",
    "Cambridge.ACT_COST.sum()"
   ]
  },
  {
   "cell_type": "code",
   "execution_count": 16,
   "metadata": {},
   "outputs": [
    {
     "data": {
      "text/html": [
       "<div>\n",
       "<style scoped>\n",
       "    .dataframe tbody tr th:only-of-type {\n",
       "        vertical-align: middle;\n",
       "    }\n",
       "\n",
       "    .dataframe tbody tr th {\n",
       "        vertical-align: top;\n",
       "    }\n",
       "\n",
       "    .dataframe thead th {\n",
       "        text-align: right;\n",
       "    }\n",
       "</style>\n",
       "<table border=\"1\" class=\"dataframe\">\n",
       "  <thead>\n",
       "    <tr style=\"text-align: right;\">\n",
       "      <th></th>\n",
       "      <th>BNF_CODE</th>\n",
       "      <th>ITEMS</th>\n",
       "      <th>NIC</th>\n",
       "      <th>ACT_COST</th>\n",
       "      <th>QUANTITY</th>\n",
       "      <th>PERIOD</th>\n",
       "      <th>JUDGE</th>\n",
       "      <th>BNF_NAME</th>\n",
       "    </tr>\n",
       "  </thead>\n",
       "  <tbody>\n",
       "    <tr>\n",
       "      <th>27292</th>\n",
       "      <td>090402000BBSIA0</td>\n",
       "      <td>302</td>\n",
       "      <td>10725.65</td>\n",
       "      <td>10019.74</td>\n",
       "      <td>924625</td>\n",
       "      <td>5650512</td>\n",
       "      <td>28.0</td>\n",
       "      <td>Fortisip Compact_Liq (8 Flav)</td>\n",
       "    </tr>\n",
       "    <tr>\n",
       "      <th>27106</th>\n",
       "      <td>090402000BBGYA0</td>\n",
       "      <td>27</td>\n",
       "      <td>9370.26</td>\n",
       "      <td>8690.25</td>\n",
       "      <td>651324</td>\n",
       "      <td>2421648</td>\n",
       "      <td>12.0</td>\n",
       "      <td>Nutrison Pack_Energy</td>\n",
       "    </tr>\n",
       "    <tr>\n",
       "      <th>14494</th>\n",
       "      <td>0407010H0AAAMAM</td>\n",
       "      <td>4565</td>\n",
       "      <td>6334.40</td>\n",
       "      <td>6012.26</td>\n",
       "      <td>573923</td>\n",
       "      <td>6457728</td>\n",
       "      <td>32.0</td>\n",
       "      <td>Paracet_Tab 500mg</td>\n",
       "    </tr>\n",
       "    <tr>\n",
       "      <th>27058</th>\n",
       "      <td>090402000BBAJA0</td>\n",
       "      <td>152</td>\n",
       "      <td>2859.36</td>\n",
       "      <td>2722.00</td>\n",
       "      <td>508936</td>\n",
       "      <td>4439688</td>\n",
       "      <td>22.0</td>\n",
       "      <td>Fortisip Bottle_Liq (8 Flav)</td>\n",
       "    </tr>\n",
       "    <tr>\n",
       "      <th>32386</th>\n",
       "      <td>130201000BBICBW</td>\n",
       "      <td>775</td>\n",
       "      <td>5405.80</td>\n",
       "      <td>5021.06</td>\n",
       "      <td>447500</td>\n",
       "      <td>6659532</td>\n",
       "      <td>33.0</td>\n",
       "      <td>Dermol 500_Lot</td>\n",
       "    </tr>\n",
       "    <tr>\n",
       "      <th>877</th>\n",
       "      <td>0103050P0AAAAAA</td>\n",
       "      <td>11688</td>\n",
       "      <td>9533.34</td>\n",
       "      <td>9128.05</td>\n",
       "      <td>443650</td>\n",
       "      <td>6457728</td>\n",
       "      <td>32.0</td>\n",
       "      <td>Omeprazole_Cap E/C 20mg</td>\n",
       "    </tr>\n",
       "    <tr>\n",
       "      <th>27160</th>\n",
       "      <td>090402000BBLMA0</td>\n",
       "      <td>23</td>\n",
       "      <td>7372.09</td>\n",
       "      <td>6837.07</td>\n",
       "      <td>437716</td>\n",
       "      <td>2623452</td>\n",
       "      <td>13.0</td>\n",
       "      <td>Nutrison Pack_Energy M/Fibre</td>\n",
       "    </tr>\n",
       "    <tr>\n",
       "      <th>1944</th>\n",
       "      <td>0106040G0AAAAAA</td>\n",
       "      <td>704</td>\n",
       "      <td>1953.93</td>\n",
       "      <td>1847.82</td>\n",
       "      <td>420220</td>\n",
       "      <td>6054120</td>\n",
       "      <td>30.0</td>\n",
       "      <td>Lactulose_Soln 3.1g-3.7g/5ml</td>\n",
       "    </tr>\n",
       "    <tr>\n",
       "      <th>21436</th>\n",
       "      <td>0601022B0AAABAB</td>\n",
       "      <td>3620</td>\n",
       "      <td>10553.50</td>\n",
       "      <td>9866.12</td>\n",
       "      <td>328345</td>\n",
       "      <td>6255924</td>\n",
       "      <td>31.0</td>\n",
       "      <td>Metformin HCl_Tab 500mg</td>\n",
       "    </tr>\n",
       "    <tr>\n",
       "      <th>27091</th>\n",
       "      <td>090402000BBGXA0</td>\n",
       "      <td>15</td>\n",
       "      <td>5790.90</td>\n",
       "      <td>5370.58</td>\n",
       "      <td>298500</td>\n",
       "      <td>1816236</td>\n",
       "      <td>9.0</td>\n",
       "      <td>Nutrison Pack_Conc Liq</td>\n",
       "    </tr>\n",
       "  </tbody>\n",
       "</table>\n",
       "</div>"
      ],
      "text/plain": [
       "              BNF_CODE  ITEMS    NIC          ACT_COST  QUANTITY   PERIOD  \\\n",
       "27292  090402000BBSIA0      302     10725.65  10019.74    924625  5650512   \n",
       "27106  090402000BBGYA0       27      9370.26   8690.25    651324  2421648   \n",
       "14494  0407010H0AAAMAM     4565      6334.40   6012.26    573923  6457728   \n",
       "27058  090402000BBAJA0      152      2859.36   2722.00    508936  4439688   \n",
       "32386  130201000BBICBW      775      5405.80   5021.06    447500  6659532   \n",
       "877    0103050P0AAAAAA    11688      9533.34   9128.05    443650  6457728   \n",
       "27160  090402000BBLMA0       23      7372.09   6837.07    437716  2623452   \n",
       "1944   0106040G0AAAAAA      704      1953.93   1847.82    420220  6054120   \n",
       "21436  0601022B0AAABAB     3620     10553.50   9866.12    328345  6255924   \n",
       "27091  090402000BBGXA0       15      5790.90   5370.58    298500  1816236   \n",
       "\n",
       "       JUDGE                                  BNF_NAME  \n",
       "27292   28.0  Fortisip Compact_Liq (8 Flav)             \n",
       "27106   12.0  Nutrison Pack_Energy                      \n",
       "14494   32.0  Paracet_Tab 500mg                         \n",
       "27058   22.0  Fortisip Bottle_Liq (8 Flav)              \n",
       "32386   33.0  Dermol 500_Lot                            \n",
       "877     32.0  Omeprazole_Cap E/C 20mg                   \n",
       "27160   13.0  Nutrison Pack_Energy M/Fibre              \n",
       "1944    30.0  Lactulose_Soln 3.1g-3.7g/5ml              \n",
       "21436   31.0  Metformin HCl_Tab 500mg                   \n",
       "27091    9.0  Nutrison Pack_Conc Liq                    "
      ]
     },
     "execution_count": 16,
     "metadata": {},
     "output_type": "execute_result"
    }
   ],
   "source": [
    "#the top 10 most frequent drugs prescribed in Cambridge\n",
    "Cambridge_Count = Cambridge.groupby(['BNF_CODE']).sum()\n",
    "Cambridge_Count_1 = Cambridge_Count.merge(Cambridge[['BNF_CODE','BNF_NAME']], on = 'BNF_CODE',how = 'left') #add BNF_NAME\n",
    "Cambridge_Count_2 = Cambridge_Count_1.sort_values(by='QUANTITY', ascending=False)\n",
    "Cambridge_Count_2.drop_duplicates(subset=['BNF_CODE'], keep='first').head(10)"
   ]
  },
  {
   "cell_type": "code",
   "execution_count": 17,
   "metadata": {
    "scrolled": true
   },
   "outputs": [
    {
     "data": {
      "text/html": [
       "<div>\n",
       "<style scoped>\n",
       "    .dataframe tbody tr th:only-of-type {\n",
       "        vertical-align: middle;\n",
       "    }\n",
       "\n",
       "    .dataframe tbody tr th {\n",
       "        vertical-align: top;\n",
       "    }\n",
       "\n",
       "    .dataframe thead th {\n",
       "        text-align: right;\n",
       "    }\n",
       "</style>\n",
       "<table border=\"1\" class=\"dataframe\">\n",
       "  <thead>\n",
       "    <tr style=\"text-align: right;\">\n",
       "      <th></th>\n",
       "      <th>BNF_CODE</th>\n",
       "      <th>ITEMS</th>\n",
       "      <th>NIC</th>\n",
       "      <th>ACT_COST</th>\n",
       "      <th>QUANTITY</th>\n",
       "      <th>PERIOD</th>\n",
       "      <th>JUDGE</th>\n",
       "      <th>BNF_NAME</th>\n",
       "    </tr>\n",
       "  </thead>\n",
       "  <tbody>\n",
       "    <tr>\n",
       "      <th>34842</th>\n",
       "      <td>1308010Z0BBABAB</td>\n",
       "      <td>1</td>\n",
       "      <td>65.00</td>\n",
       "      <td>60.28</td>\n",
       "      <td>0</td>\n",
       "      <td>201804</td>\n",
       "      <td>1.0</td>\n",
       "      <td>Picato_Gel 500mcg/g</td>\n",
       "    </tr>\n",
       "    <tr>\n",
       "      <th>35495</th>\n",
       "      <td>1404000G0BEACAG</td>\n",
       "      <td>1</td>\n",
       "      <td>27.60</td>\n",
       "      <td>25.60</td>\n",
       "      <td>1</td>\n",
       "      <td>201804</td>\n",
       "      <td>1.0</td>\n",
       "      <td>HBvaxPRO_Vac 40mcg/ml 1ml Vl</td>\n",
       "    </tr>\n",
       "    <tr>\n",
       "      <th>37823</th>\n",
       "      <td>21200000044</td>\n",
       "      <td>1</td>\n",
       "      <td>17.31</td>\n",
       "      <td>16.07</td>\n",
       "      <td>1</td>\n",
       "      <td>201804</td>\n",
       "      <td>1.0</td>\n",
       "      <td>Activa Leg Ulcer Hose Kit Ex Exlge C/T C</td>\n",
       "    </tr>\n",
       "    <tr>\n",
       "      <th>37829</th>\n",
       "      <td>21200000047</td>\n",
       "      <td>1</td>\n",
       "      <td>16.97</td>\n",
       "      <td>15.75</td>\n",
       "      <td>1</td>\n",
       "      <td>201804</td>\n",
       "      <td>1.0</td>\n",
       "      <td>Activa Leg Ulcer Hose Kit Lge O/T Compre</td>\n",
       "    </tr>\n",
       "    <tr>\n",
       "      <th>37830</th>\n",
       "      <td>21200000048</td>\n",
       "      <td>1</td>\n",
       "      <td>16.97</td>\n",
       "      <td>15.75</td>\n",
       "      <td>1</td>\n",
       "      <td>201804</td>\n",
       "      <td>1.0</td>\n",
       "      <td>Activa Leg Ulcer Hose Kit Exlge O/T Comp</td>\n",
       "    </tr>\n",
       "    <tr>\n",
       "      <th>37833</th>\n",
       "      <td>21200000111</td>\n",
       "      <td>1</td>\n",
       "      <td>11.56</td>\n",
       "      <td>10.73</td>\n",
       "      <td>1</td>\n",
       "      <td>201804</td>\n",
       "      <td>1.0</td>\n",
       "      <td>Altipress Regular Med Compress Liner Pac</td>\n",
       "    </tr>\n",
       "    <tr>\n",
       "      <th>37841</th>\n",
       "      <td>21200000152</td>\n",
       "      <td>1</td>\n",
       "      <td>31.81</td>\n",
       "      <td>29.51</td>\n",
       "      <td>1</td>\n",
       "      <td>201804</td>\n",
       "      <td>1.0</td>\n",
       "      <td>Jobst UlcerCARE Lge Stkn + 2 x Compress</td>\n",
       "    </tr>\n",
       "    <tr>\n",
       "      <th>37844</th>\n",
       "      <td>21210000003</td>\n",
       "      <td>1</td>\n",
       "      <td>6.86</td>\n",
       "      <td>6.37</td>\n",
       "      <td>1</td>\n",
       "      <td>201804</td>\n",
       "      <td>1.0</td>\n",
       "      <td>Xerotin Saliva Rep P/Spy 100ml</td>\n",
       "    </tr>\n",
       "    <tr>\n",
       "      <th>37867</th>\n",
       "      <td>21210000006</td>\n",
       "      <td>1</td>\n",
       "      <td>9.85</td>\n",
       "      <td>9.15</td>\n",
       "      <td>1</td>\n",
       "      <td>201804</td>\n",
       "      <td>1.0</td>\n",
       "      <td>Aequasyal Prote Mth Spy 40ml (App)</td>\n",
       "    </tr>\n",
       "    <tr>\n",
       "      <th>37882</th>\n",
       "      <td>21210000013</td>\n",
       "      <td>1</td>\n",
       "      <td>2.96</td>\n",
       "      <td>2.76</td>\n",
       "      <td>1</td>\n",
       "      <td>201804</td>\n",
       "      <td>1.0</td>\n",
       "      <td>Oralieve Moisturising Mth Gel 50ml</td>\n",
       "    </tr>\n",
       "  </tbody>\n",
       "</table>\n",
       "</div>"
      ],
      "text/plain": [
       "              BNF_CODE  ITEMS    NIC          ACT_COST  QUANTITY  PERIOD  \\\n",
       "34842  1308010Z0BBABAB        1        65.00     60.28         0  201804   \n",
       "35495  1404000G0BEACAG        1        27.60     25.60         1  201804   \n",
       "37823  21200000044            1        17.31     16.07         1  201804   \n",
       "37829  21200000047            1        16.97     15.75         1  201804   \n",
       "37830  21200000048            1        16.97     15.75         1  201804   \n",
       "37833  21200000111            1        11.56     10.73         1  201804   \n",
       "37841  21200000152            1        31.81     29.51         1  201804   \n",
       "37844  21210000003            1         6.86      6.37         1  201804   \n",
       "37867  21210000006            1         9.85      9.15         1  201804   \n",
       "37882  21210000013            1         2.96      2.76         1  201804   \n",
       "\n",
       "       JUDGE                                  BNF_NAME  \n",
       "34842    1.0  Picato_Gel 500mcg/g                       \n",
       "35495    1.0  HBvaxPRO_Vac 40mcg/ml 1ml Vl              \n",
       "37823    1.0  Activa Leg Ulcer Hose Kit Ex Exlge C/T C  \n",
       "37829    1.0  Activa Leg Ulcer Hose Kit Lge O/T Compre  \n",
       "37830    1.0  Activa Leg Ulcer Hose Kit Exlge O/T Comp  \n",
       "37833    1.0  Altipress Regular Med Compress Liner Pac  \n",
       "37841    1.0  Jobst UlcerCARE Lge Stkn + 2 x Compress   \n",
       "37844    1.0  Xerotin Saliva Rep P/Spy 100ml            \n",
       "37867    1.0  Aequasyal Prote Mth Spy 40ml (App)        \n",
       "37882    1.0  Oralieve Moisturising Mth Gel 50ml        "
      ]
     },
     "execution_count": 17,
     "metadata": {},
     "output_type": "execute_result"
    }
   ],
   "source": [
    "#the bottom 10 less frequent drugs prescribed in Cambridge\n",
    "Cambridge_Count_3 = Cambridge_Count_1.sort_values(by='QUANTITY', ascending=True)\n",
    "Cambridge_Count_3.drop_duplicates(subset=['BNF_CODE'], keep='first').head(10)"
   ]
  },
  {
   "cell_type": "markdown",
   "metadata": {},
   "source": [
    "#### Comparing London and Cambridge, we could find the standard error between these two cities is different, which mean that the dispersion of patients in Cambridge is more uneven than London. We could also see the average patients per practices in Cambridge is 10051 and in London is 7821. Each practice in Cambridge needs to service more patients than in London. The active GP is mean the GP with at least one patient record. We could find that a large number of practices in London do not have any record in April."
   ]
  },
  {
   "cell_type": "code",
   "execution_count": 18,
   "metadata": {},
   "outputs": [
    {
     "data": {
      "text/plain": [
       "(5061.76, 6173.94, 7820.56, 10050.94, 747, 31)"
      ]
     },
     "execution_count": 18,
     "metadata": {},
     "output_type": "execute_result"
    }
   ],
   "source": [
    "PAT_Num_London = data2_1.loc[data2_1['JUDGE'] == 1].NUMBER_OF_PATIENTS\n",
    "PAT_Num_Cambridge = data2_2.loc[data2_2['JUDGE'] == 1].NUMBER_OF_PATIENTS\n",
    "round(np.std(PAT_Num_London),2),round(np.std(PAT_Num_Cambridge),2),round(np.mean(PAT_Num_London),2),round(np.mean(PAT_Num_Cambridge),2),PAT_Num_London.count(),PAT_Num_Cambridge.count()"
   ]
  },
  {
   "cell_type": "code",
   "execution_count": 19,
   "metadata": {},
   "outputs": [
    {
     "data": {
      "text/html": [
       "<div>\n",
       "<style scoped>\n",
       "    .dataframe tbody tr th:only-of-type {\n",
       "        vertical-align: middle;\n",
       "    }\n",
       "\n",
       "    .dataframe tbody tr th {\n",
       "        vertical-align: top;\n",
       "    }\n",
       "\n",
       "    .dataframe thead th {\n",
       "        text-align: right;\n",
       "    }\n",
       "</style>\n",
       "<table border=\"1\" class=\"dataframe\">\n",
       "  <thead>\n",
       "    <tr style=\"text-align: right;\">\n",
       "      <th></th>\n",
       "      <th>all GP</th>\n",
       "      <th>Patients</th>\n",
       "      <th>Prescriptions</th>\n",
       "      <th>Actual Cost</th>\n",
       "      <th>Patients.std</th>\n",
       "      <th>Patients.mean</th>\n",
       "      <th>active GP</th>\n",
       "    </tr>\n",
       "  </thead>\n",
       "  <tbody>\n",
       "    <tr>\n",
       "      <th>London</th>\n",
       "      <td>929</td>\n",
       "      <td>5841956</td>\n",
       "      <td>510136987</td>\n",
       "      <td>43322000.54</td>\n",
       "      <td>5061.76</td>\n",
       "      <td>7821</td>\n",
       "      <td>747</td>\n",
       "    </tr>\n",
       "    <tr>\n",
       "      <th>Cambridge</th>\n",
       "      <td>36</td>\n",
       "      <td>311579</td>\n",
       "      <td>25232152</td>\n",
       "      <td>2434403.94</td>\n",
       "      <td>6173.95</td>\n",
       "      <td>10051</td>\n",
       "      <td>31</td>\n",
       "    </tr>\n",
       "  </tbody>\n",
       "</table>\n",
       "</div>"
      ],
      "text/plain": [
       "           all GP  Patients  Prescriptions  Actual Cost  Patients.std  \\\n",
       "London        929   5841956      510136987  43322000.54       5061.76   \n",
       "Cambridge      36    311579       25232152   2434403.94       6173.95   \n",
       "\n",
       "           Patients.mean  active GP  \n",
       "London              7821        747  \n",
       "Cambridge          10051         31  "
      ]
     },
     "execution_count": 19,
     "metadata": {},
     "output_type": "execute_result"
    }
   ],
   "source": [
    "Lon_Cam_1 = {'all GP':[929,36],'Patients':[5841956,311579],'Prescriptions':[510136987,25232152],'Actual Cost':[43322000.54,2434403.94],'Patients.std':[5061.76,6173.95],'Patients.mean':[7821,10051],'active GP':[747,31]}\n",
    "Lon_Cam = pd.DataFrame(Lon_Cam_1,index=['London','Cambridge']) #descriptive statistics\n",
    "Lon_Cam"
   ]
  },
  {
   "cell_type": "markdown",
   "metadata": {},
   "source": [
    "<font color=Blue size=10 > Assignment_A_3 </font>"
   ]
  },
  {
   "cell_type": "markdown",
   "metadata": {},
   "source": [
    "#### To identify the prescriptions related to cardiovascular disease and antidepressants, we need to check the British National Formulary. We find the code of these two diseases are begin with ‘02' and ‘0403', so we need to extract all the samples which BNF code start with this two number. The total number of prescriptions across all practices for drugs related to cardiovascular disease and antidepressants are 933262147 and 214223401. The total actual cost across all practices for medications related to cardiovascular disease and antidepressants are 90193834.02 and 16853470.86."
   ]
  },
  {
   "cell_type": "code",
   "execution_count": 20,
   "metadata": {
    "scrolled": true
   },
   "outputs": [
    {
     "data": {
      "text/html": [
       "<div>\n",
       "<style scoped>\n",
       "    .dataframe tbody tr th:only-of-type {\n",
       "        vertical-align: middle;\n",
       "    }\n",
       "\n",
       "    .dataframe tbody tr th {\n",
       "        vertical-align: top;\n",
       "    }\n",
       "\n",
       "    .dataframe thead th {\n",
       "        text-align: right;\n",
       "    }\n",
       "</style>\n",
       "<table border=\"1\" class=\"dataframe\">\n",
       "  <thead>\n",
       "    <tr style=\"text-align: right;\">\n",
       "      <th></th>\n",
       "      <th>ITEMS</th>\n",
       "      <th>NIC</th>\n",
       "      <th>ACT_COST</th>\n",
       "      <th>QUANTITY</th>\n",
       "      <th>PERIOD</th>\n",
       "    </tr>\n",
       "    <tr>\n",
       "      <th>BNF_CODE</th>\n",
       "      <th></th>\n",
       "      <th></th>\n",
       "      <th></th>\n",
       "      <th></th>\n",
       "      <th></th>\n",
       "    </tr>\n",
       "  </thead>\n",
       "  <tbody>\n",
       "    <tr>\n",
       "      <th>0201010F0AAAAAA</th>\n",
       "      <td>1235</td>\n",
       "      <td>7768.20</td>\n",
       "      <td>7216.87</td>\n",
       "      <td>87120</td>\n",
       "      <td>183036228</td>\n",
       "    </tr>\n",
       "    <tr>\n",
       "      <th>0201010F0AAADAD</th>\n",
       "      <td>79367</td>\n",
       "      <td>106602.17</td>\n",
       "      <td>102511.62</td>\n",
       "      <td>1904145</td>\n",
       "      <td>1355315664</td>\n",
       "    </tr>\n",
       "    <tr>\n",
       "      <th>0201010F0AAAEAE</th>\n",
       "      <td>141057</td>\n",
       "      <td>193988.10</td>\n",
       "      <td>185641.31</td>\n",
       "      <td>3608018</td>\n",
       "      <td>1416058668</td>\n",
       "    </tr>\n",
       "    <tr>\n",
       "      <th>0201010F0AAAFAF</th>\n",
       "      <td>25483</td>\n",
       "      <td>42923.53</td>\n",
       "      <td>40590.33</td>\n",
       "      <td>773394</td>\n",
       "      <td>1133331264</td>\n",
       "    </tr>\n",
       "    <tr>\n",
       "      <th>0201010F0BBAAAE</th>\n",
       "      <td>403</td>\n",
       "      <td>179.41</td>\n",
       "      <td>209.46</td>\n",
       "      <td>11139</td>\n",
       "      <td>10493808</td>\n",
       "    </tr>\n",
       "  </tbody>\n",
       "</table>\n",
       "</div>"
      ],
      "text/plain": [
       "                 ITEMS    NIC           ACT_COST  QUANTITY      PERIOD\n",
       "BNF_CODE                                                              \n",
       "0201010F0AAAAAA     1235      7768.20    7216.87     87120   183036228\n",
       "0201010F0AAADAD    79367    106602.17  102511.62   1904145  1355315664\n",
       "0201010F0AAAEAE   141057    193988.10  185641.31   3608018  1416058668\n",
       "0201010F0AAAFAF    25483     42923.53   40590.33    773394  1133331264\n",
       "0201010F0BBAAAE      403       179.41     209.46     11139    10493808"
      ]
     },
     "execution_count": 20,
     "metadata": {},
     "output_type": "execute_result"
    }
   ],
   "source": [
    "#list all the drugs related to cardiovascular disease\n",
    "Cardiovascular_Disease = data3.loc[(data3['BNF_CODE'] > '020000000000000') & (data3['BNF_CODE'] < '030000000000000')]\n",
    "CD_Count = Cardiovascular_Disease.groupby(['BNF_CODE']).sum() # summarize the BNF_CODE begin with 02\n",
    "CD_Count.head()"
   ]
  },
  {
   "cell_type": "code",
   "execution_count": 21,
   "metadata": {
    "scrolled": true
   },
   "outputs": [
    {
     "data": {
      "text/plain": [
       "933262147"
      ]
     },
     "execution_count": 21,
     "metadata": {},
     "output_type": "execute_result"
    }
   ],
   "source": [
    "#total number of prescriptions related to cardiovascular disease\n",
    "CD_Count.QUANTITY.sum()"
   ]
  },
  {
   "cell_type": "code",
   "execution_count": 22,
   "metadata": {},
   "outputs": [
    {
     "data": {
      "text/plain": [
       "90193834.02"
      ]
     },
     "execution_count": 22,
     "metadata": {},
     "output_type": "execute_result"
    }
   ],
   "source": [
    "#total actual cost of prescriptions related to cardiovascular disease\n",
    "round(CD_Count.ACT_COST.sum(),2)"
   ]
  },
  {
   "cell_type": "code",
   "execution_count": 23,
   "metadata": {
    "scrolled": true
   },
   "outputs": [
    {
     "data": {
      "text/html": [
       "<div>\n",
       "<style scoped>\n",
       "    .dataframe tbody tr th:only-of-type {\n",
       "        vertical-align: middle;\n",
       "    }\n",
       "\n",
       "    .dataframe tbody tr th {\n",
       "        vertical-align: top;\n",
       "    }\n",
       "\n",
       "    .dataframe thead th {\n",
       "        text-align: right;\n",
       "    }\n",
       "</style>\n",
       "<table border=\"1\" class=\"dataframe\">\n",
       "  <thead>\n",
       "    <tr style=\"text-align: right;\">\n",
       "      <th></th>\n",
       "      <th>ITEMS</th>\n",
       "      <th>NIC</th>\n",
       "      <th>ACT_COST</th>\n",
       "      <th>QUANTITY</th>\n",
       "      <th>PERIOD</th>\n",
       "    </tr>\n",
       "    <tr>\n",
       "      <th>BNF_CODE</th>\n",
       "      <th></th>\n",
       "      <th></th>\n",
       "      <th></th>\n",
       "      <th></th>\n",
       "      <th></th>\n",
       "    </tr>\n",
       "  </thead>\n",
       "  <tbody>\n",
       "    <tr>\n",
       "      <th>0403010B0AAA6A6</th>\n",
       "      <td>21</td>\n",
       "      <td>2567.08</td>\n",
       "      <td>2380.93</td>\n",
       "      <td>3440</td>\n",
       "      <td>2825256</td>\n",
       "    </tr>\n",
       "    <tr>\n",
       "      <th>0403010B0AAAFAF</th>\n",
       "      <td>663</td>\n",
       "      <td>17542.36</td>\n",
       "      <td>16290.38</td>\n",
       "      <td>136969</td>\n",
       "      <td>105745296</td>\n",
       "    </tr>\n",
       "    <tr>\n",
       "      <th>0403010B0AAAGAG</th>\n",
       "      <td>701543</td>\n",
       "      <td>1261322.48</td>\n",
       "      <td>1187746.02</td>\n",
       "      <td>36385621</td>\n",
       "      <td>1546020444</td>\n",
       "    </tr>\n",
       "    <tr>\n",
       "      <th>0403010B0AAAHAH</th>\n",
       "      <td>247551</td>\n",
       "      <td>297480.32</td>\n",
       "      <td>283395.27</td>\n",
       "      <td>11237854</td>\n",
       "      <td>1471958376</td>\n",
       "    </tr>\n",
       "    <tr>\n",
       "      <th>0403010B0AAAIAI</th>\n",
       "      <td>154237</td>\n",
       "      <td>641513.88</td>\n",
       "      <td>600310.01</td>\n",
       "      <td>6221348</td>\n",
       "      <td>1437046284</td>\n",
       "    </tr>\n",
       "  </tbody>\n",
       "</table>\n",
       "</div>"
      ],
      "text/plain": [
       "                 ITEMS    NIC            ACT_COST  QUANTITY      PERIOD\n",
       "BNF_CODE                                                               \n",
       "0403010B0AAA6A6       21      2567.08     2380.93      3440     2825256\n",
       "0403010B0AAAFAF      663     17542.36    16290.38    136969   105745296\n",
       "0403010B0AAAGAG   701543   1261322.48  1187746.02  36385621  1546020444\n",
       "0403010B0AAAHAH   247551    297480.32   283395.27  11237854  1471958376\n",
       "0403010B0AAAIAI   154237    641513.88   600310.01   6221348  1437046284"
      ]
     },
     "execution_count": 23,
     "metadata": {},
     "output_type": "execute_result"
    }
   ],
   "source": [
    "#list all the drugs related to antidepressants\n",
    "Antidepressants = data3.loc[(data3['BNF_CODE'] > '040300000000000') & (data3['BNF_CODE'] < '040400000000000')]\n",
    "An_Count = Antidepressants.groupby(['BNF_CODE']).sum() # summarize the BNF_CODE begin with 0403\n",
    "An_Count.head()"
   ]
  },
  {
   "cell_type": "code",
   "execution_count": 24,
   "metadata": {},
   "outputs": [
    {
     "data": {
      "text/plain": [
       "214223401"
      ]
     },
     "execution_count": 24,
     "metadata": {},
     "output_type": "execute_result"
    }
   ],
   "source": [
    "#total number of prescriptions related to antidepressants\n",
    "An_Count.QUANTITY.sum()"
   ]
  },
  {
   "cell_type": "code",
   "execution_count": 25,
   "metadata": {},
   "outputs": [
    {
     "data": {
      "text/plain": [
       "16853470.86"
      ]
     },
     "execution_count": 25,
     "metadata": {},
     "output_type": "execute_result"
    }
   ],
   "source": [
    "#total actual cost of prescriptions related to antidepressants\n",
    "round(An_Count.ACT_COST.sum(),2)"
   ]
  },
  {
   "cell_type": "markdown",
   "metadata": {},
   "source": [
    "<font color=Blue size=10 > Assignment_A_4 </font>"
   ]
  },
  {
   "cell_type": "markdown",
   "metadata": {},
   "source": [
    "#### Actual cost and number of patients of each practice can be extracted from data source so we can calculate the relative costs per patient through ‘actual cost' divided by ‘number of patients'. The average cost per patients in April is around 11.61, and the average actual cost per practices is 87842.77. We can show a scatterplot of total spending across all practices in April and the number of patients in each practice in April to visualize the total monthly expenditure per registered patients. But the first step is data cleaning because some noisy data may influent the fit of the trend line. The method we used in the data cleaning process deletes the largest 0.1% data for both actual cost and number of patients. With the help of this process, we can show a reasonable scatterplot and a trend line. From the diagram, we can find that as the number of patients grows, total spending across all practices has a growing trend."
   ]
  },
  {
   "cell_type": "code",
   "execution_count": 26,
   "metadata": {},
   "outputs": [
    {
     "data": {
      "text/html": [
       "<div>\n",
       "<style scoped>\n",
       "    .dataframe tbody tr th:only-of-type {\n",
       "        vertical-align: middle;\n",
       "    }\n",
       "\n",
       "    .dataframe tbody tr th {\n",
       "        vertical-align: top;\n",
       "    }\n",
       "\n",
       "    .dataframe thead th {\n",
       "        text-align: right;\n",
       "    }\n",
       "</style>\n",
       "<table border=\"1\" class=\"dataframe\">\n",
       "  <thead>\n",
       "    <tr style=\"text-align: right;\">\n",
       "      <th></th>\n",
       "      <th>ACT_COST</th>\n",
       "      <th>CODE</th>\n",
       "      <th>NUMBER_OF_PATIENTS</th>\n",
       "      <th>Relative_Costs_Per_Patient</th>\n",
       "    </tr>\n",
       "  </thead>\n",
       "  <tbody>\n",
       "    <tr>\n",
       "      <th>0</th>\n",
       "      <td>52194.63</td>\n",
       "      <td>A81001</td>\n",
       "      <td>4086</td>\n",
       "      <td>12.774016</td>\n",
       "    </tr>\n",
       "    <tr>\n",
       "      <th>1</th>\n",
       "      <td>268607.26</td>\n",
       "      <td>A81002</td>\n",
       "      <td>19906</td>\n",
       "      <td>13.493784</td>\n",
       "    </tr>\n",
       "    <tr>\n",
       "      <th>2</th>\n",
       "      <td>139115.40</td>\n",
       "      <td>A81004</td>\n",
       "      <td>10165</td>\n",
       "      <td>13.685726</td>\n",
       "    </tr>\n",
       "    <tr>\n",
       "      <th>3</th>\n",
       "      <td>102914.06</td>\n",
       "      <td>A81005</td>\n",
       "      <td>8016</td>\n",
       "      <td>12.838580</td>\n",
       "    </tr>\n",
       "    <tr>\n",
       "      <th>4</th>\n",
       "      <td>183226.79</td>\n",
       "      <td>A81006</td>\n",
       "      <td>14497</td>\n",
       "      <td>12.638945</td>\n",
       "    </tr>\n",
       "  </tbody>\n",
       "</table>\n",
       "</div>"
      ],
      "text/plain": [
       "    ACT_COST    CODE  NUMBER_OF_PATIENTS  Relative_Costs_Per_Patient\n",
       "0   52194.63  A81001                4086                   12.774016\n",
       "1  268607.26  A81002               19906                   13.493784\n",
       "2  139115.40  A81004               10165                   13.685726\n",
       "3  102914.06  A81005                8016                   12.838580\n",
       "4  183226.79  A81006               14497                   12.638945"
      ]
     },
     "execution_count": 26,
     "metadata": {},
     "output_type": "execute_result"
    }
   ],
   "source": [
    "#combine ACT_COST and Number_OF_PATIENTS\n",
    "PRACTICE_COST = data3[['PRACTICE','ACT_COST']]\n",
    "PRACTICE_Total = PRACTICE_COST.groupby(['PRACTICE']).sum()\n",
    "PRACTICE_MERGE = pd.merge(PRACTICE_Total,data2[['CODE','NUMBER_OF_PATIENTS']], left_on = 'PRACTICE', right_on = 'CODE')\n",
    "list_per_patient = PRACTICE_MERGE['ACT_COST'] / PRACTICE_MERGE['NUMBER_OF_PATIENTS'] #calculate the costs per patients\n",
    "PRACTICE_Table = PRACTICE_MERGE.copy()\n",
    "PRACTICE_Table['Relative_Costs_Per_Patient'] = list_per_patient #add the costs per patients\n",
    "PRACTICE_Table.head()"
   ]
  },
  {
   "cell_type": "code",
   "execution_count": 27,
   "metadata": {},
   "outputs": [
    {
     "data": {
      "text/plain": [
       "(11.61, 87842.77)"
      ]
     },
     "execution_count": 27,
     "metadata": {},
     "output_type": "execute_result"
    }
   ],
   "source": [
    "round(np.mean(PRACTICE_Table.Relative_Costs_Per_Patient),2),round(np.mean(PRACTICE_Table.ACT_COST),2) #average cost "
   ]
  },
  {
   "cell_type": "code",
   "execution_count": 28,
   "metadata": {
    "scrolled": false
   },
   "outputs": [
    {
     "data": {
      "text/plain": [
       "Text(0.5,0,'total number of patient in each practices in April 2018')"
      ]
     },
     "execution_count": 28,
     "metadata": {},
     "output_type": "execute_result"
    },
    {
     "data": {
      "image/png": "[encoded data removed]",
      "text/plain": [
       "<Figure size 576x432 with 1 Axes>"
      ]
     },
     "metadata": {},
     "output_type": "display_data"
    }
   ],
   "source": [
    "#visualize the monthly total spending per registered patients, trend line\n",
    "max_ACT = PRACTICE_Table['ACT_COST'].quantile(.999) #identify the potential noise data(the largest 0.1%)\n",
    "max_PAT = PRACTICE_Table['NUMBER_OF_PATIENTS'].quantile(.999) #identify the potential noise data(the largest 0.1%)\n",
    "PRACTICE_Table_1 = PRACTICE_Table.loc[(PRACTICE_Table['NUMBER_OF_PATIENTS'] < max_PAT) & (PRACTICE_Table['ACT_COST'] < max_ACT)]\n",
    "fig = plt.figure(figsize = (8, 6)) #the size of background\n",
    "PRACTICE_scatterplot = fig.add_subplot(111)\n",
    "y = PRACTICE_Table_1['ACT_COST'] # the value of x axis\n",
    "x = PRACTICE_Table_1['NUMBER_OF_PATIENTS'] # the value of y axis\n",
    "PRACTICE_scatterplot.scatter(x, y, color='royalblue')\n",
    "fit = np.polyfit(x, y, deg = 1) # the scatterplot\n",
    "PRACTICE_scatterplot.plot(x, fit[0] * x + fit[1], color='red') # the trend line\n",
    "PRACTICE_scatterplot.set_title ('monthly total spending per registered patients')\n",
    "PRACTICE_scatterplot.set_ylabel('total spending across all practices in April 2018',fontsize=12)\n",
    "PRACTICE_scatterplot.set_xlabel('total number of patient in each practices in April 2018',fontsize=12)"
   ]
  },
  {
   "cell_type": "markdown",
   "metadata": {},
   "source": [
    "#### But we could also find in the histogram of the number of patients per practices, the distribution of the histogram is not normally distributed which is mean that the distribution of patients is uneven. This situation could result in some practices are very busy, and at the same time, another one is free."
   ]
  },
  {
   "cell_type": "code",
   "execution_count": 29,
   "metadata": {
    "scrolled": true
   },
   "outputs": [
    {
     "data": {
      "image/png": "[encoded data removed]",
      "text/plain": [
       "<Figure size 432x288 with 1 Axes>"
      ]
     },
     "metadata": {},
     "output_type": "display_data"
    }
   ],
   "source": [
    "n, bins, patches = plt.hist(PRACTICE_Table.NUMBER_OF_PATIENTS, 30, density = 1, facecolor = 'green', alpha = 0.5)\n",
    "plt.title('Frequency of patients number')\n",
    "plt.xlabel(\"Number of Patients\")\n",
    "plt.ylabel(\"Frequency\") \n",
    "plt.show() #histogram of patients number"
   ]
  },
  {
   "cell_type": "markdown",
   "metadata": {},
   "source": [
    "#### The histogram for relative spending for all practices also needs data cleaning. For this histogram, we use the variable ‘Relative_Costs_Per_Patient' and delete the bottom 1% and the top 1% of the value to avoid the influence of outliers. We also fit a Gaussian curve to support us to judge the distribution. From the diagram, we can conclude that the distribution of relative costs per patient is approximating a normal distribution."
   ]
  },
  {
   "cell_type": "code",
   "execution_count": 30,
   "metadata": {
    "scrolled": true
   },
   "outputs": [
    {
     "data": {
      "image/png": "[encoded data removed]",
      "text/plain": [
       "<Figure size 432x288 with 1 Axes>"
      ]
     },
     "metadata": {},
     "output_type": "display_data"
    }
   ],
   "source": [
    "#histogram about relative spending for all practices, Gaussian curve\n",
    "x = PRACTICE_Table.Relative_Costs_Per_Patient.values\n",
    "min_x = PRACTICE_Table['Relative_Costs_Per_Patient'].quantile(.01) #identify the potential noise data(the bottom 1%)\n",
    "max_x = PRACTICE_Table['Relative_Costs_Per_Patient'].quantile(.99) #identify the potential noise data(the top 1%)\n",
    "x_1 = [i for i in x if (i < max_x) & (i> min_x)] # exclude the noise data\n",
    "num_bins = 30 #identify the number of bins\n",
    "n, bins, patches = plt.hist(x_1, num_bins, density = 1, facecolor = 'blue', alpha = 0.5) #histogram for relative spending for all practices\n",
    "mean =np.mean(x_1)\n",
    "std =np.std(x_1)\n",
    "y = stats.norm.pdf(bins, mean, std) #fit the Gaussian curve\n",
    "plt.plot(bins, y, 'r-*')\n",
    "plt.title('Frequency of monthly relative spending per patients')\n",
    "plt.xlabel(\"Monthly relative spending per patients\")\n",
    "plt.ylabel(\"Frequency\")\n",
    "plt.show()"
   ]
  },
  {
   "cell_type": "markdown",
   "metadata": {},
   "source": [
    "#### Further test, we use the function ‘scipy.stats.normaltest’ to test whether a sample differs from a normal distribution. The null hypothesis of this test is the sample comes from a normal distribution. We receive the return P-value is less than 0.01, so we can reject the null hypothesis, and this is mean that the distribution of spending per practices is not a normal distribution. The diagram seems like negative skewness which means the average is less than the median, and the median is less than the mode."
   ]
  },
  {
   "cell_type": "code",
   "execution_count": 31,
   "metadata": {},
   "outputs": [
    {
     "data": {
      "text/plain": [
       "NormaltestResult(statistic=24361.584421525054, pvalue=0.0)"
      ]
     },
     "execution_count": 31,
     "metadata": {},
     "output_type": "execute_result"
    }
   ],
   "source": [
    "stats.normaltest (x, axis=0) #normal distribution test"
   ]
  },
  {
   "cell_type": "markdown",
   "metadata": {},
   "source": [
    "<font color=Blue size=10 > Assignment_B_1 </font>"
   ]
  },
  {
   "cell_type": "markdown",
   "metadata": {},
   "source": [
    "#### The data sources used in Assignment B is the WHO Mortality (ICD-10 version) and Population datasets. It is a database of registered deaths compiled by WHO from data given by national authorities around the world. The cause of each death is classified by the circumstances that led to death. We will use the Mortality data, country codes and Population and live births datasets. The ‘Mortality data' including the variables country code, year, sex, death cause code (ICD-10) and death age. Another file which called ‘Documentation_1 Dec2018’ including the explanation of ICD-10 code so we could identify the target cause based on the variable ‘Cause’."
   ]
  },
  {
   "cell_type": "code",
   "execution_count": 32,
   "metadata": {},
   "outputs": [
    {
     "data": {
      "text/html": [
       "<div>\n",
       "<style scoped>\n",
       "    .dataframe tbody tr th:only-of-type {\n",
       "        vertical-align: middle;\n",
       "    }\n",
       "\n",
       "    .dataframe tbody tr th {\n",
       "        vertical-align: top;\n",
       "    }\n",
       "\n",
       "    .dataframe thead th {\n",
       "        text-align: right;\n",
       "    }\n",
       "</style>\n",
       "<table border=\"1\" class=\"dataframe\">\n",
       "  <thead>\n",
       "    <tr style=\"text-align: right;\">\n",
       "      <th></th>\n",
       "      <th>Country</th>\n",
       "      <th>Admin1</th>\n",
       "      <th>SubDiv</th>\n",
       "      <th>Year</th>\n",
       "      <th>List</th>\n",
       "      <th>Cause</th>\n",
       "      <th>Sex</th>\n",
       "      <th>Frmat</th>\n",
       "      <th>IM_Frmat</th>\n",
       "      <th>Deaths1</th>\n",
       "      <th>...</th>\n",
       "      <th>Deaths21</th>\n",
       "      <th>Deaths22</th>\n",
       "      <th>Deaths23</th>\n",
       "      <th>Deaths24</th>\n",
       "      <th>Deaths25</th>\n",
       "      <th>Deaths26</th>\n",
       "      <th>IM_Deaths1</th>\n",
       "      <th>IM_Deaths2</th>\n",
       "      <th>IM_Deaths3</th>\n",
       "      <th>IM_Deaths4</th>\n",
       "    </tr>\n",
       "  </thead>\n",
       "  <tbody>\n",
       "    <tr>\n",
       "      <th>995</th>\n",
       "      <td>1400</td>\n",
       "      <td>NaN</td>\n",
       "      <td>NaN</td>\n",
       "      <td>2010</td>\n",
       "      <td>101</td>\n",
       "      <td>1000</td>\n",
       "      <td>1</td>\n",
       "      <td>7</td>\n",
       "      <td>1</td>\n",
       "      <td>363</td>\n",
       "      <td>...</td>\n",
       "      <td>108.0</td>\n",
       "      <td>NaN</td>\n",
       "      <td>NaN</td>\n",
       "      <td>NaN</td>\n",
       "      <td>NaN</td>\n",
       "      <td>0.0</td>\n",
       "      <td>2.0</td>\n",
       "      <td>3.0</td>\n",
       "      <td>3.0</td>\n",
       "      <td>4.0</td>\n",
       "    </tr>\n",
       "    <tr>\n",
       "      <th>996</th>\n",
       "      <td>1400</td>\n",
       "      <td>NaN</td>\n",
       "      <td>NaN</td>\n",
       "      <td>2010</td>\n",
       "      <td>101</td>\n",
       "      <td>1000</td>\n",
       "      <td>2</td>\n",
       "      <td>7</td>\n",
       "      <td>1</td>\n",
       "      <td>301</td>\n",
       "      <td>...</td>\n",
       "      <td>169.0</td>\n",
       "      <td>NaN</td>\n",
       "      <td>NaN</td>\n",
       "      <td>NaN</td>\n",
       "      <td>NaN</td>\n",
       "      <td>0.0</td>\n",
       "      <td>2.0</td>\n",
       "      <td>6.0</td>\n",
       "      <td>1.0</td>\n",
       "      <td>0.0</td>\n",
       "    </tr>\n",
       "    <tr>\n",
       "      <th>997</th>\n",
       "      <td>1400</td>\n",
       "      <td>NaN</td>\n",
       "      <td>NaN</td>\n",
       "      <td>2010</td>\n",
       "      <td>101</td>\n",
       "      <td>1001</td>\n",
       "      <td>1</td>\n",
       "      <td>7</td>\n",
       "      <td>1</td>\n",
       "      <td>23</td>\n",
       "      <td>...</td>\n",
       "      <td>4.0</td>\n",
       "      <td>NaN</td>\n",
       "      <td>NaN</td>\n",
       "      <td>NaN</td>\n",
       "      <td>NaN</td>\n",
       "      <td>0.0</td>\n",
       "      <td>0.0</td>\n",
       "      <td>0.0</td>\n",
       "      <td>0.0</td>\n",
       "      <td>1.0</td>\n",
       "    </tr>\n",
       "    <tr>\n",
       "      <th>998</th>\n",
       "      <td>1400</td>\n",
       "      <td>NaN</td>\n",
       "      <td>NaN</td>\n",
       "      <td>2010</td>\n",
       "      <td>101</td>\n",
       "      <td>1001</td>\n",
       "      <td>2</td>\n",
       "      <td>7</td>\n",
       "      <td>1</td>\n",
       "      <td>29</td>\n",
       "      <td>...</td>\n",
       "      <td>19.0</td>\n",
       "      <td>NaN</td>\n",
       "      <td>NaN</td>\n",
       "      <td>NaN</td>\n",
       "      <td>NaN</td>\n",
       "      <td>0.0</td>\n",
       "      <td>0.0</td>\n",
       "      <td>0.0</td>\n",
       "      <td>0.0</td>\n",
       "      <td>0.0</td>\n",
       "    </tr>\n",
       "    <tr>\n",
       "      <th>999</th>\n",
       "      <td>1400</td>\n",
       "      <td>NaN</td>\n",
       "      <td>NaN</td>\n",
       "      <td>2010</td>\n",
       "      <td>101</td>\n",
       "      <td>1002</td>\n",
       "      <td>1</td>\n",
       "      <td>7</td>\n",
       "      <td>1</td>\n",
       "      <td>0</td>\n",
       "      <td>...</td>\n",
       "      <td>0.0</td>\n",
       "      <td>NaN</td>\n",
       "      <td>NaN</td>\n",
       "      <td>NaN</td>\n",
       "      <td>NaN</td>\n",
       "      <td>0.0</td>\n",
       "      <td>0.0</td>\n",
       "      <td>0.0</td>\n",
       "      <td>0.0</td>\n",
       "      <td>0.0</td>\n",
       "    </tr>\n",
       "  </tbody>\n",
       "</table>\n",
       "<p>5 rows × 39 columns</p>\n",
       "</div>"
      ],
      "text/plain": [
       "     Country  Admin1 SubDiv  Year List Cause  Sex  Frmat  IM_Frmat  Deaths1  \\\n",
       "995     1400     NaN    NaN  2010  101  1000    1      7         1      363   \n",
       "996     1400     NaN    NaN  2010  101  1000    2      7         1      301   \n",
       "997     1400     NaN    NaN  2010  101  1001    1      7         1       23   \n",
       "998     1400     NaN    NaN  2010  101  1001    2      7         1       29   \n",
       "999     1400     NaN    NaN  2010  101  1002    1      7         1        0   \n",
       "\n",
       "        ...      Deaths21  Deaths22  Deaths23  Deaths24  Deaths25  Deaths26  \\\n",
       "995     ...         108.0       NaN       NaN       NaN       NaN       0.0   \n",
       "996     ...         169.0       NaN       NaN       NaN       NaN       0.0   \n",
       "997     ...           4.0       NaN       NaN       NaN       NaN       0.0   \n",
       "998     ...          19.0       NaN       NaN       NaN       NaN       0.0   \n",
       "999     ...           0.0       NaN       NaN       NaN       NaN       0.0   \n",
       "\n",
       "     IM_Deaths1  IM_Deaths2  IM_Deaths3  IM_Deaths4  \n",
       "995         2.0         3.0         3.0         4.0  \n",
       "996         2.0         6.0         1.0         0.0  \n",
       "997         0.0         0.0         0.0         1.0  \n",
       "998         0.0         0.0         0.0         0.0  \n",
       "999         0.0         0.0         0.0         0.0  \n",
       "\n",
       "[5 rows x 39 columns]"
      ]
     },
     "execution_count": 32,
     "metadata": {},
     "output_type": "execute_result"
    }
   ],
   "source": [
    "#use Morticd10.CSV as data4\n",
    "data4_1 = pd.read_csv('/Users/Liujianyu/Desktop/DMHR/Final_assignment/Morticd10_part1.csv', index_col=False,low_memory=False)\n",
    "data4_2 = pd.read_csv('/Users/Liujianyu/Desktop/DMHR/Final_assignment/Morticd10_part2.csv', index_col=False,low_memory=False)\n",
    "data4_3 = pd.concat([data4_1,data4_2])\n",
    "data4 = data4_3.loc[data4_3['Year'] == 2010]\n",
    "data4.head()"
   ]
  },
  {
   "cell_type": "markdown",
   "metadata": {},
   "source": [
    "#### Through the file of country code, we could identify the country code of Iceland, Italy and New Zealand are 4160, 4180 and 5150, We need to focus on mortality data at the year of 2010, and we could get the total number of deaths of these three countries. The deaths number in Iceland in 2010 is 4038, in Italy is 1169230 and in New Zealand is 57298."
   ]
  },
  {
   "cell_type": "code",
   "execution_count": 33,
   "metadata": {
    "scrolled": true
   },
   "outputs": [
    {
     "data": {
      "text/plain": [
       "(4038, 1169230, 57298)"
      ]
     },
     "execution_count": 33,
     "metadata": {},
     "output_type": "execute_result"
    }
   ],
   "source": [
    "#summarize the total number of deaths in Iceland, Italy and New Zealand in 2010\n",
    "iceland_death = data4.loc[data4['Country'] == 4160].Deaths1.sum()\n",
    "Italy_death = data4.loc[data4['Country'] == 4180].Deaths1.sum()\n",
    "New_Zealand_death = data4.loc[data4['Country'] == 5150].Deaths1.sum()\n",
    "iceland_death,Italy_death,New_Zealand_death"
   ]
  },
  {
   "cell_type": "markdown",
   "metadata": {},
   "source": [
    "#### Similarly, we could extract the data of population from ‘Population_and_live_births.CSV'. Based on country code and year, we could identify the population of those three countries. The population in Iceland, Italy and New Zealand in 2010 is 318041, 60483386 and 4367360."
   ]
  },
  {
   "cell_type": "code",
   "execution_count": 34,
   "metadata": {},
   "outputs": [
    {
     "data": {
      "text/html": [
       "<div>\n",
       "<style scoped>\n",
       "    .dataframe tbody tr th:only-of-type {\n",
       "        vertical-align: middle;\n",
       "    }\n",
       "\n",
       "    .dataframe tbody tr th {\n",
       "        vertical-align: top;\n",
       "    }\n",
       "\n",
       "    .dataframe thead th {\n",
       "        text-align: right;\n",
       "    }\n",
       "</style>\n",
       "<table border=\"1\" class=\"dataframe\">\n",
       "  <thead>\n",
       "    <tr style=\"text-align: right;\">\n",
       "      <th></th>\n",
       "      <th>Country</th>\n",
       "      <th>Admin1</th>\n",
       "      <th>SubDiv</th>\n",
       "      <th>Year</th>\n",
       "      <th>Sex</th>\n",
       "      <th>Frmat</th>\n",
       "      <th>Pop1</th>\n",
       "      <th>Pop2</th>\n",
       "      <th>Pop3</th>\n",
       "      <th>Pop4</th>\n",
       "      <th>...</th>\n",
       "      <th>Pop18</th>\n",
       "      <th>Pop19</th>\n",
       "      <th>Pop20</th>\n",
       "      <th>Pop21</th>\n",
       "      <th>Pop22</th>\n",
       "      <th>Pop23</th>\n",
       "      <th>Pop24</th>\n",
       "      <th>Pop25</th>\n",
       "      <th>Pop26</th>\n",
       "      <th>Lb</th>\n",
       "    </tr>\n",
       "  </thead>\n",
       "  <tbody>\n",
       "    <tr>\n",
       "      <th>86</th>\n",
       "      <td>1125</td>\n",
       "      <td>NaN</td>\n",
       "      <td>NaN</td>\n",
       "      <td>2010</td>\n",
       "      <td>1</td>\n",
       "      <td>4</td>\n",
       "      <td>40250440.0</td>\n",
       "      <td>1219070.0</td>\n",
       "      <td>3063246.0</td>\n",
       "      <td>NaN</td>\n",
       "      <td>...</td>\n",
       "      <td>971087.0</td>\n",
       "      <td>692772.0</td>\n",
       "      <td>434889.0</td>\n",
       "      <td>407699.0</td>\n",
       "      <td>NaN</td>\n",
       "      <td>NaN</td>\n",
       "      <td>NaN</td>\n",
       "      <td>NaN</td>\n",
       "      <td>0.0</td>\n",
       "      <td>1219070.0</td>\n",
       "    </tr>\n",
       "    <tr>\n",
       "      <th>87</th>\n",
       "      <td>1125</td>\n",
       "      <td>NaN</td>\n",
       "      <td>NaN</td>\n",
       "      <td>2010</td>\n",
       "      <td>2</td>\n",
       "      <td>4</td>\n",
       "      <td>38477889.0</td>\n",
       "      <td>1163338.0</td>\n",
       "      <td>2908480.0</td>\n",
       "      <td>NaN</td>\n",
       "      <td>...</td>\n",
       "      <td>871006.0</td>\n",
       "      <td>597495.0</td>\n",
       "      <td>418810.0</td>\n",
       "      <td>391919.0</td>\n",
       "      <td>NaN</td>\n",
       "      <td>NaN</td>\n",
       "      <td>NaN</td>\n",
       "      <td>NaN</td>\n",
       "      <td>0.0</td>\n",
       "      <td>1163338.0</td>\n",
       "    </tr>\n",
       "    <tr>\n",
       "      <th>212</th>\n",
       "      <td>1300</td>\n",
       "      <td>NaN</td>\n",
       "      <td>NaN</td>\n",
       "      <td>2010</td>\n",
       "      <td>1</td>\n",
       "      <td>1</td>\n",
       "      <td>612981.0</td>\n",
       "      <td>7265.0</td>\n",
       "      <td>7453.0</td>\n",
       "      <td>7877.0</td>\n",
       "      <td>...</td>\n",
       "      <td>22906.0</td>\n",
       "      <td>14357.0</td>\n",
       "      <td>10138.0</td>\n",
       "      <td>6397.0</td>\n",
       "      <td>4023.0</td>\n",
       "      <td>2088.0</td>\n",
       "      <td>NaN</td>\n",
       "      <td>NaN</td>\n",
       "      <td>0.0</td>\n",
       "      <td>7208.0</td>\n",
       "    </tr>\n",
       "    <tr>\n",
       "      <th>213</th>\n",
       "      <td>1300</td>\n",
       "      <td>NaN</td>\n",
       "      <td>NaN</td>\n",
       "      <td>2010</td>\n",
       "      <td>2</td>\n",
       "      <td>1</td>\n",
       "      <td>630103.0</td>\n",
       "      <td>7137.0</td>\n",
       "      <td>7460.0</td>\n",
       "      <td>7779.0</td>\n",
       "      <td>...</td>\n",
       "      <td>26101.0</td>\n",
       "      <td>17808.0</td>\n",
       "      <td>13826.0</td>\n",
       "      <td>9703.0</td>\n",
       "      <td>6886.0</td>\n",
       "      <td>4880.0</td>\n",
       "      <td>NaN</td>\n",
       "      <td>NaN</td>\n",
       "      <td>0.0</td>\n",
       "      <td>7083.0</td>\n",
       "    </tr>\n",
       "    <tr>\n",
       "      <th>240</th>\n",
       "      <td>1365</td>\n",
       "      <td>NaN</td>\n",
       "      <td>NaN</td>\n",
       "      <td>2010</td>\n",
       "      <td>1</td>\n",
       "      <td>1</td>\n",
       "      <td>18711.0</td>\n",
       "      <td>372.0</td>\n",
       "      <td>404.0</td>\n",
       "      <td>399.0</td>\n",
       "      <td>...</td>\n",
       "      <td>544.0</td>\n",
       "      <td>482.0</td>\n",
       "      <td>359.0</td>\n",
       "      <td>213.0</td>\n",
       "      <td>97.0</td>\n",
       "      <td>62.0</td>\n",
       "      <td>NaN</td>\n",
       "      <td>NaN</td>\n",
       "      <td>0.0</td>\n",
       "      <td>359.0</td>\n",
       "    </tr>\n",
       "  </tbody>\n",
       "</table>\n",
       "<p>5 rows × 33 columns</p>\n",
       "</div>"
      ],
      "text/plain": [
       "     Country  Admin1 SubDiv  Year  Sex  Frmat        Pop1       Pop2  \\\n",
       "86      1125     NaN    NaN  2010    1      4  40250440.0  1219070.0   \n",
       "87      1125     NaN    NaN  2010    2      4  38477889.0  1163338.0   \n",
       "212     1300     NaN    NaN  2010    1      1    612981.0     7265.0   \n",
       "213     1300     NaN    NaN  2010    2      1    630103.0     7137.0   \n",
       "240     1365     NaN    NaN  2010    1      1     18711.0      372.0   \n",
       "\n",
       "          Pop3    Pop4    ...         Pop18     Pop19     Pop20     Pop21  \\\n",
       "86   3063246.0     NaN    ...      971087.0  692772.0  434889.0  407699.0   \n",
       "87   2908480.0     NaN    ...      871006.0  597495.0  418810.0  391919.0   \n",
       "212     7453.0  7877.0    ...       22906.0   14357.0   10138.0    6397.0   \n",
       "213     7460.0  7779.0    ...       26101.0   17808.0   13826.0    9703.0   \n",
       "240      404.0   399.0    ...         544.0     482.0     359.0     213.0   \n",
       "\n",
       "      Pop22   Pop23  Pop24  Pop25  Pop26         Lb  \n",
       "86      NaN     NaN    NaN    NaN    0.0  1219070.0  \n",
       "87      NaN     NaN    NaN    NaN    0.0  1163338.0  \n",
       "212  4023.0  2088.0    NaN    NaN    0.0     7208.0  \n",
       "213  6886.0  4880.0    NaN    NaN    0.0     7083.0  \n",
       "240    97.0    62.0    NaN    NaN    0.0      359.0  \n",
       "\n",
       "[5 rows x 33 columns]"
      ]
     },
     "execution_count": 34,
     "metadata": {},
     "output_type": "execute_result"
    }
   ],
   "source": [
    "#use Population_and_live_births.CSV as data5\n",
    "data5= pd.read_csv('/Users/Liujianyu/Desktop/DMHR/Final_assignment/pop.csv' , index_col=False,low_memory=False)\n",
    "data6 = data5.loc[data5['Year'] == 2010]\n",
    "data6.head()"
   ]
  },
  {
   "cell_type": "code",
   "execution_count": 35,
   "metadata": {
    "scrolled": true
   },
   "outputs": [
    {
     "data": {
      "text/plain": [
       "(318041.0, 60483386.0, 4367360.0)"
      ]
     },
     "execution_count": 35,
     "metadata": {},
     "output_type": "execute_result"
    }
   ],
   "source": [
    "#summarize the population in Iceland, Italy and New Zealand in 2010\n",
    "iceland_pop = data6.loc[data6['Country'] == 4160].Pop1.sum()\n",
    "Italy_pop = data6.loc[data6['Country'] == 4180].Pop1.sum()\n",
    "New_Zealand_pop = data6.loc[data6['Country'] == 5150].Pop1.sum()\n",
    "iceland_pop,Italy_pop,New_Zealand_pop"
   ]
  },
  {
   "cell_type": "markdown",
   "metadata": {},
   "source": [
    "#### The population and mortality in these three countries differ significantly. We could calculate the mortality rate by using death number in 2010 divided by the population in 2010. The mortality rate in Italy is considerably higher than the other two countries, and the rate is 19.3 in a population of 1000. This rate is much higher than the result provided by The World Factbook (10.4 in a population of 1000) which is supported by the Central Intelligence Agency. This problem may be due to the noisy data and different data collection rules, but we could not identify the reason based on the available data."
   ]
  },
  {
   "cell_type": "code",
   "execution_count": 36,
   "metadata": {},
   "outputs": [
    {
     "data": {
      "text/plain": [
       "(0.0127, 0.0193, 0.0131)"
      ]
     },
     "execution_count": 36,
     "metadata": {},
     "output_type": "execute_result"
    }
   ],
   "source": [
    "round(iceland_death/iceland_pop,4), round(Italy_death/Italy_pop,4), round(New_Zealand_death/New_Zealand_pop,4)"
   ]
  },
  {
   "cell_type": "markdown",
   "metadata": {},
   "source": [
    "<font color=Blue size=10 > Assignment_B_2 </font>"
   ]
  },
  {
   "cell_type": "markdown",
   "metadata": {},
   "source": [
    "#### By summarize the death number of the different age group in Italy, we could visualize the distribution of deaths. From the diagram, we could find the most proportion of the people deaths at age 80 to 84 and 85 to 90. The average life expectancy in Italy provided by World Bank is 82.54 in 2016, and the peak of deaths frequency is just over this expectancy. We could also find the deaths frequency at 0 is significantly higher than several groups after it. This result is mean that children age under one year old is also an essential stage of people’s healthy and people ought to pay more attention to the health of new-born."
   ]
  },
  {
   "cell_type": "code",
   "execution_count": 37,
   "metadata": {
    "scrolled": true
   },
   "outputs": [
    {
     "data": {
      "text/plain": [
       "[48752.0, 3262.0, 2168.0, 1826.0, 1628.0]"
      ]
     },
     "execution_count": 37,
     "metadata": {},
     "output_type": "execute_result"
    }
   ],
   "source": [
    "#list of the distribution of deaths by age group in Italy\n",
    "Italy_death_all = data4_3.loc[data4_3['Country'] == 4180].sum()\n",
    "Italy_death_all_list = Italy_death_all.tolist()\n",
    "histogram_Italy = Italy_death_all_list[10:34]\n",
    "histogram_Italy[0:5]"
   ]
  },
  {
   "cell_type": "code",
   "execution_count": 38,
   "metadata": {},
   "outputs": [
    {
     "data": {
      "image/png": "[encoded data removed]",
      "text/plain": [
       "<Figure size 432x288 with 1 Axes>"
      ]
     },
     "metadata": {},
     "output_type": "display_data"
    }
   ],
   "source": [
    "#histogram of the distribution of deaths by age group in Italy\n",
    "label1 = ['0','1','2','3','4','5','10','15','20','25','30','35','40','45','50','55','60','65','70','75','80','85','90','95+']\n",
    "plt.bar(label1, histogram_Italy)\n",
    "plt.title('Death in Italy by age group')\n",
    "plt.xlabel(\"age group\")\n",
    "plt.ylabel(\"Frequency\")\n",
    "plt.show()"
   ]
  },
  {
   "cell_type": "markdown",
   "metadata": {},
   "source": [
    "<font color=Blue size=10 > Assignment_B_3 </font>"
   ]
  },
  {
   "cell_type": "markdown",
   "metadata": {},
   "source": [
    "#### For the variable ‘Cause', we could find that there are three different kinds of data type. Some of them are recorded in one letter followed by three numbers, some of them are recorded in one letter followed by two numbers, and the rest is recorded by four digits number. Through ‘Documentation 1 Dec2018', we could find the type of 4 digits number is a potential noisy data because it could be ICD-9 code or code in ICD 10 Mortality Tabulation List 1. For example, 1026 could mean 102.6, and it is an ICD-9 code which means ‘Bone and joint lesions due to yaws’. But it could also be a code in ICD 10 Mortality Tabulation List 1 which replace C00-D48. This data type makes people feel confusing so we could not judge this type of data. For another two types of data, they are all ICD-10 code in different levels of detail."
   ]
  },
  {
   "cell_type": "code",
   "execution_count": 39,
   "metadata": {},
   "outputs": [
    {
     "data": {
      "text/plain": [
       "(320, 939)"
      ]
     },
     "execution_count": 39,
     "metadata": {},
     "output_type": "execute_result"
    }
   ],
   "source": [
    "#calculate the position of C00 to D48 in the ICD-10 list\n",
    "data4_4 = data4_3.loc[data4_3['Country'] == 4180]\n",
    "list_B1 = data4_4['Cause'].tolist() #identify all the cause\n",
    "list_B2 = list(set(list_B1))\n",
    "list_B2.sort()\n",
    "list_B2.index('C000'),list_B2.index('D489')"
   ]
  },
  {
   "cell_type": "markdown",
   "metadata": {},
   "source": [
    "#### In our data source, we could find 620 kind of codes between C00 and D48 which is relative with a neoplasm (from C00.0 to D48.9). Based on this code, we could extract all the samples relative with neoplasm, and we could calculate the proportion of each deaths cause. The top5 cause is shown in the table, and we could check in the WHO website to identify the meaning of each code. The majority type of neoplasm result in death in Italy is C34.9 which means ‘Malignant neoplasm of unspecified part of bronchus or lung', and the proportion of this type is 19.0% which is much higher than the second highest reason (only 6.9%). This phenomenon indicates that neoplasm of bronchus or lung is a majority reason for people's health problems. Furthermore, the danger of smoking should further attract people's attention."
   ]
  },
  {
   "cell_type": "code",
   "execution_count": 40,
   "metadata": {
    "scrolled": true
   },
   "outputs": [
    {
     "data": {
      "text/html": [
       "<div>\n",
       "<style scoped>\n",
       "    .dataframe tbody tr th:only-of-type {\n",
       "        vertical-align: middle;\n",
       "    }\n",
       "\n",
       "    .dataframe tbody tr th {\n",
       "        vertical-align: top;\n",
       "    }\n",
       "\n",
       "    .dataframe thead th {\n",
       "        text-align: right;\n",
       "    }\n",
       "</style>\n",
       "<table border=\"1\" class=\"dataframe\">\n",
       "  <thead>\n",
       "    <tr style=\"text-align: right;\">\n",
       "      <th></th>\n",
       "      <th>Deaths1</th>\n",
       "      <th>Proportion (%)</th>\n",
       "    </tr>\n",
       "    <tr>\n",
       "      <th>Cause</th>\n",
       "      <th></th>\n",
       "      <th></th>\n",
       "    </tr>\n",
       "  </thead>\n",
       "  <tbody>\n",
       "    <tr>\n",
       "      <th>C349</th>\n",
       "      <td>426451</td>\n",
       "      <td>19.0</td>\n",
       "    </tr>\n",
       "    <tr>\n",
       "      <th>C509</th>\n",
       "      <td>155895</td>\n",
       "      <td>6.9</td>\n",
       "    </tr>\n",
       "    <tr>\n",
       "      <th>C189</th>\n",
       "      <td>143188</td>\n",
       "      <td>6.4</td>\n",
       "    </tr>\n",
       "    <tr>\n",
       "      <th>C169</th>\n",
       "      <td>125679</td>\n",
       "      <td>5.6</td>\n",
       "    </tr>\n",
       "    <tr>\n",
       "      <th>C259</th>\n",
       "      <td>120070</td>\n",
       "      <td>5.3</td>\n",
       "    </tr>\n",
       "  </tbody>\n",
       "</table>\n",
       "</div>"
      ],
      "text/plain": [
       "       Deaths1  Proportion (%)\n",
       "Cause                         \n",
       "C349    426451            19.0\n",
       "C509    155895             6.9\n",
       "C189    143188             6.4\n",
       "C169    125679             5.6\n",
       "C259    120070             5.3"
      ]
     },
     "execution_count": 40,
     "metadata": {},
     "output_type": "execute_result"
    }
   ],
   "source": [
    "#identify the top 5 causes of death in Italy across all years for the Neoplasm\n",
    "list_Neoplasm = list_B2[320:940]\n",
    "list_B3 = data4_4.Cause.isin(list_Neoplasm)\n",
    "data4_5 = data4_4.copy()\n",
    "data4_5['JUDGE'] = list_B3 #identify the cause belong to Neoplasm ICD10-category\n",
    "data4_6 = data4_5.loc[data4_5['JUDGE'] == 1]\n",
    "Neoplasm_Cause = data4_6.groupby(['Cause']).sum()\n",
    "Neoplasm_Cause_1 = Neoplasm_Cause.sort_values(by='Deaths1', ascending=False)\n",
    "Italy_Neoplasm = pd.DataFrame(Neoplasm_Cause_1['Deaths1'])\n",
    "Italy_Neoplasm['Proportion (%)'] = round(Neoplasm_Cause_1['Deaths1'] *100/ Neoplasm_Cause_1['Deaths1'].sum(),1) #calculate the proportion of overall deaths\n",
    "Italy_Neoplasm.head(5)"
   ]
  },
  {
   "cell_type": "markdown",
   "metadata": {},
   "source": [
    "#### In the pie chart, we combined the reasons other than the top five to highlight these five reasons. The top 5 causes of death relative with neoplasm are malignant neoplasm of unspecified part of bronchus or lung, malignant neoplasm of breast of unspecified site, malignant neoplasm of colon unspecified, Malignant neoplasm of stomach unspecified and malignant neoplasm of pancreas unspecified. We could also find all of these five reasons are unspecified and we need to pay attention to the difficulty of diagnosis neoplasm type."
   ]
  },
  {
   "cell_type": "code",
   "execution_count": 41,
   "metadata": {},
   "outputs": [
    {
     "data": {
      "image/png": "[encoded data removed]",
      "text/plain": [
       "<Figure size 576x576 with 1 Axes>"
      ]
     },
     "metadata": {},
     "output_type": "display_data"
    }
   ],
   "source": [
    "#a pie chart of the deaths proportion\n",
    "Italy_Neoplasm_1 = Italy_Neoplasm[0:5]\n",
    "Others_list = {'Deaths1':[1277378],'Proportion':[0.568061]} #summarize other reason of deaths other than top 5 reason\n",
    "Others = pd.DataFrame(Others_list,index=['Others']) \n",
    "Italy_Neoplasm_Pie = pd.concat([Italy_Neoplasm_1,Others],sort = True) #Cobine other reason of deaths other than top 5 reason\n",
    "plot = Italy_Neoplasm_Pie.plot.pie(y='Deaths1', figsize=(8, 8),autopct='%1.1f%%',title = 'deaths proportion in Italy')"
   ]
  },
  {
   "cell_type": "markdown",
   "metadata": {},
   "source": [
    "<font color=Blue size=10 > Assignment_B_4 </font>"
   ]
  },
  {
   "cell_type": "markdown",
   "metadata": {},
   "source": [
    "#### The top 5 age group in Australia dying with neoplasms cause of death could be identified by summarizing the death number in Australia of each age group. We could find except age group from 85 to 89, the number of deaths with neoplasms increases with age growth."
   ]
  },
  {
   "cell_type": "code",
   "execution_count": 42,
   "metadata": {
    "scrolled": true
   },
   "outputs": [
    {
     "data": {
      "text/html": [
       "<div>\n",
       "<style scoped>\n",
       "    .dataframe tbody tr th:only-of-type {\n",
       "        vertical-align: middle;\n",
       "    }\n",
       "\n",
       "    .dataframe tbody tr th {\n",
       "        vertical-align: top;\n",
       "    }\n",
       "\n",
       "    .dataframe thead th {\n",
       "        text-align: right;\n",
       "    }\n",
       "</style>\n",
       "<table border=\"1\" class=\"dataframe\">\n",
       "  <thead>\n",
       "    <tr style=\"text-align: right;\">\n",
       "      <th></th>\n",
       "      <th>Death_Neoplasms</th>\n",
       "      <th>Death_All_Cause</th>\n",
       "      <th>Proportion (%)</th>\n",
       "    </tr>\n",
       "  </thead>\n",
       "  <tbody>\n",
       "    <tr>\n",
       "      <th>Deaths22</th>\n",
       "      <td>7167</td>\n",
       "      <td>48548</td>\n",
       "      <td>14.7627</td>\n",
       "    </tr>\n",
       "    <tr>\n",
       "      <th>Deaths21</th>\n",
       "      <td>6291</td>\n",
       "      <td>32744</td>\n",
       "      <td>19.2127</td>\n",
       "    </tr>\n",
       "    <tr>\n",
       "      <th>Deaths20</th>\n",
       "      <td>5713</td>\n",
       "      <td>24754</td>\n",
       "      <td>23.0791</td>\n",
       "    </tr>\n",
       "    <tr>\n",
       "      <th>Deaths23</th>\n",
       "      <td>5520</td>\n",
       "      <td>53574</td>\n",
       "      <td>10.3035</td>\n",
       "    </tr>\n",
       "    <tr>\n",
       "      <th>Deaths19</th>\n",
       "      <td>4768</td>\n",
       "      <td>18718</td>\n",
       "      <td>25.4728</td>\n",
       "    </tr>\n",
       "  </tbody>\n",
       "</table>\n",
       "</div>"
      ],
      "text/plain": [
       "         Death_Neoplasms Death_All_Cause Proportion (%)\n",
       "Deaths22            7167           48548        14.7627\n",
       "Deaths21            6291           32744        19.2127\n",
       "Deaths20            5713           24754        23.0791\n",
       "Deaths23            5520           53574        10.3035\n",
       "Deaths19            4768           18718        25.4728"
      ]
     },
     "execution_count": 42,
     "metadata": {},
     "output_type": "execute_result"
    }
   ],
   "source": [
    "#the top five age groups in Australia dying with a Neoplasms cause of death in 2010\n",
    "Australia_death_2010 = data4.loc[data4['Country'] == 5020]\n",
    "list_B4 = Australia_death_2010.Cause.isin(list_Neoplasm) #identify the people death because of Neoplasm\n",
    "Australia_death_2010_1 = Australia_death_2010.copy()\n",
    "Australia_death_2010_1['JUDGE'] = list_B4\n",
    "Australia_death_2010_2 = Australia_death_2010_1.loc[Australia_death_2010_1['JUDGE'] == 1].sum()[10:35]#only keep the summarization result about number of death\n",
    "Australia_death_2010_3 = pd.DataFrame(Australia_death_2010_2,columns = ['Death_Neoplasms'])\n",
    "Australia_death_2010_3['Death_All_Cause'] = Australia_death_2010_1.sum()[10:35]\n",
    "Australia_death_2010_3['Proportion (%)'] = Australia_death_2010_3.Death_Neoplasms*100 /Australia_death_2010_3.Death_All_Cause\n",
    "Australia_death_2010_sort1 = Australia_death_2010_3.sort_values(by='Death_Neoplasms', ascending=False).head(5)\n",
    "Australia_death_2010_sort1"
   ]
  },
  {
   "cell_type": "markdown",
   "metadata": {},
   "source": [
    "#### But when we focus on the proportion of dying with neoplasms cause of death in all the deaths people in each age group, we have a different finding. The top5 percentage is people from 60 to 64, and the proportion is 26%. This result is mean that 26% of people die in there 60 to 64 is because of neoplasms. And the top5 group is from 50 to 75, and this group could be identified as a high incidence of neoplasms in Australia. So it is clear that there have differences by age group for deaths from Neoplasms in Australia for 2010."
   ]
  },
  {
   "cell_type": "code",
   "execution_count": 43,
   "metadata": {},
   "outputs": [
    {
     "data": {
      "text/html": [
       "<div>\n",
       "<style scoped>\n",
       "    .dataframe tbody tr th:only-of-type {\n",
       "        vertical-align: middle;\n",
       "    }\n",
       "\n",
       "    .dataframe tbody tr th {\n",
       "        vertical-align: top;\n",
       "    }\n",
       "\n",
       "    .dataframe thead th {\n",
       "        text-align: right;\n",
       "    }\n",
       "</style>\n",
       "<table border=\"1\" class=\"dataframe\">\n",
       "  <thead>\n",
       "    <tr style=\"text-align: right;\">\n",
       "      <th></th>\n",
       "      <th>Death_Neoplasms</th>\n",
       "      <th>Death_All_Cause</th>\n",
       "      <th>Proportion (%)</th>\n",
       "    </tr>\n",
       "  </thead>\n",
       "  <tbody>\n",
       "    <tr>\n",
       "      <th>Deaths18</th>\n",
       "      <td>3938</td>\n",
       "      <td>15160</td>\n",
       "      <td>25.9763</td>\n",
       "    </tr>\n",
       "    <tr>\n",
       "      <th>Deaths19</th>\n",
       "      <td>4768</td>\n",
       "      <td>18718</td>\n",
       "      <td>25.4728</td>\n",
       "    </tr>\n",
       "    <tr>\n",
       "      <th>Deaths17</th>\n",
       "      <td>2695</td>\n",
       "      <td>10920</td>\n",
       "      <td>24.6795</td>\n",
       "    </tr>\n",
       "    <tr>\n",
       "      <th>Deaths20</th>\n",
       "      <td>5713</td>\n",
       "      <td>24754</td>\n",
       "      <td>23.0791</td>\n",
       "    </tr>\n",
       "    <tr>\n",
       "      <th>Deaths16</th>\n",
       "      <td>1756</td>\n",
       "      <td>8156</td>\n",
       "      <td>21.5302</td>\n",
       "    </tr>\n",
       "  </tbody>\n",
       "</table>\n",
       "</div>"
      ],
      "text/plain": [
       "         Death_Neoplasms Death_All_Cause Proportion (%)\n",
       "Deaths18            3938           15160        25.9763\n",
       "Deaths19            4768           18718        25.4728\n",
       "Deaths17            2695           10920        24.6795\n",
       "Deaths20            5713           24754        23.0791\n",
       "Deaths16            1756            8156        21.5302"
      ]
     },
     "execution_count": 43,
     "metadata": {},
     "output_type": "execute_result"
    }
   ],
   "source": [
    "#the proportion of dying with neoplasms cause of death in all the deaths people \n",
    "Australia_death_2010_sort2 = Australia_death_2010_3.sort_values(by='Proportion (%)', ascending=False).head(5)\n",
    "Australia_death_2010_sort2"
   ]
  },
  {
   "cell_type": "markdown",
   "metadata": {},
   "source": [
    "<font color=Blue size=10 > Assignment_B_5 </font>"
   ]
  },
  {
   "cell_type": "markdown",
   "metadata": {},
   "source": [
    "#### To compare and contrast the frequency of deaths by Neoplasms in Italy and Australia in 2010, we could summarize the deaths and population information in 2 different logic. First, we can combine information from different type of Neoplasms. Based on this logic, we could compare the majority type of Neoplasms in these two countries. From ‘Neo/Death%’, we could calculate the proportion of deaths from each type of Neoplasms to the total deaths of Neoplasms. We could find the most frequency Neoplasms in both countries is C349, which means ‘Malignant neoplasm of unspecified part of bronchus or lung’. But the frequency of C61, Malignant neoplasm of prostate, in Australia is much higher than Italy. From ‘Neo/pop%’, we could calculate the proportion of deaths from Neoplasms to the total population. The order of this variable is similar to ‘Neo/Death%’."
   ]
  },
  {
   "cell_type": "code",
   "execution_count": 44,
   "metadata": {},
   "outputs": [
    {
     "data": {
      "text/html": [
       "<div>\n",
       "<style scoped>\n",
       "    .dataframe tbody tr th:only-of-type {\n",
       "        vertical-align: middle;\n",
       "    }\n",
       "\n",
       "    .dataframe tbody tr th {\n",
       "        vertical-align: top;\n",
       "    }\n",
       "\n",
       "    .dataframe thead th {\n",
       "        text-align: right;\n",
       "    }\n",
       "</style>\n",
       "<table border=\"1\" class=\"dataframe\">\n",
       "  <thead>\n",
       "    <tr style=\"text-align: right;\">\n",
       "      <th></th>\n",
       "      <th>Cause</th>\n",
       "      <th>Deaths_Aus</th>\n",
       "      <th>Neo/Death_Aus%</th>\n",
       "      <th>Neo/pop_Aus%</th>\n",
       "      <th>Deahts_Ita</th>\n",
       "      <th>Neo/Death_Ita%</th>\n",
       "      <th>Neo/pop_Ita%</th>\n",
       "    </tr>\n",
       "  </thead>\n",
       "  <tbody>\n",
       "    <tr>\n",
       "      <th>0</th>\n",
       "      <td>C349</td>\n",
       "      <td>122554.0</td>\n",
       "      <td>17.8</td>\n",
       "      <td>0.55</td>\n",
       "      <td>426451</td>\n",
       "      <td>19.0</td>\n",
       "      <td>0.71</td>\n",
       "    </tr>\n",
       "    <tr>\n",
       "      <th>1</th>\n",
       "      <td>C61</td>\n",
       "      <td>49963.0</td>\n",
       "      <td>7.3</td>\n",
       "      <td>0.22</td>\n",
       "      <td>95906</td>\n",
       "      <td>4.3</td>\n",
       "      <td>0.16</td>\n",
       "    </tr>\n",
       "    <tr>\n",
       "      <th>2</th>\n",
       "      <td>C509</td>\n",
       "      <td>46064.0</td>\n",
       "      <td>6.7</td>\n",
       "      <td>0.21</td>\n",
       "      <td>155895</td>\n",
       "      <td>6.9</td>\n",
       "      <td>0.26</td>\n",
       "    </tr>\n",
       "    <tr>\n",
       "      <th>3</th>\n",
       "      <td>C259</td>\n",
       "      <td>34643.0</td>\n",
       "      <td>5.0</td>\n",
       "      <td>0.16</td>\n",
       "      <td>120070</td>\n",
       "      <td>5.3</td>\n",
       "      <td>0.20</td>\n",
       "    </tr>\n",
       "    <tr>\n",
       "      <th>4</th>\n",
       "      <td>C189</td>\n",
       "      <td>33282.0</td>\n",
       "      <td>4.8</td>\n",
       "      <td>0.15</td>\n",
       "      <td>143188</td>\n",
       "      <td>6.4</td>\n",
       "      <td>0.24</td>\n",
       "    </tr>\n",
       "    <tr>\n",
       "      <th>5</th>\n",
       "      <td>C80</td>\n",
       "      <td>23427.0</td>\n",
       "      <td>3.4</td>\n",
       "      <td>0.11</td>\n",
       "      <td>33186</td>\n",
       "      <td>1.5</td>\n",
       "      <td>0.05</td>\n",
       "    </tr>\n",
       "    <tr>\n",
       "      <th>6</th>\n",
       "      <td>C439</td>\n",
       "      <td>19987.0</td>\n",
       "      <td>2.9</td>\n",
       "      <td>0.09</td>\n",
       "      <td>17279</td>\n",
       "      <td>0.8</td>\n",
       "      <td>0.03</td>\n",
       "    </tr>\n",
       "    <tr>\n",
       "      <th>7</th>\n",
       "      <td>C159</td>\n",
       "      <td>18809.0</td>\n",
       "      <td>2.7</td>\n",
       "      <td>0.08</td>\n",
       "      <td>22888</td>\n",
       "      <td>1.0</td>\n",
       "      <td>0.04</td>\n",
       "    </tr>\n",
       "    <tr>\n",
       "      <th>8</th>\n",
       "      <td>C169</td>\n",
       "      <td>17640.0</td>\n",
       "      <td>2.6</td>\n",
       "      <td>0.08</td>\n",
       "      <td>125679</td>\n",
       "      <td>5.6</td>\n",
       "      <td>0.21</td>\n",
       "    </tr>\n",
       "    <tr>\n",
       "      <th>10</th>\n",
       "      <td>C719</td>\n",
       "      <td>15514.0</td>\n",
       "      <td>2.3</td>\n",
       "      <td>0.07</td>\n",
       "      <td>18906</td>\n",
       "      <td>0.8</td>\n",
       "      <td>0.03</td>\n",
       "    </tr>\n",
       "  </tbody>\n",
       "</table>\n",
       "</div>"
      ],
      "text/plain": [
       "   Cause  Deaths_Aus  Neo/Death_Aus%  Neo/pop_Aus%  Deahts_Ita  \\\n",
       "0   C349    122554.0            17.8          0.55      426451   \n",
       "1    C61     49963.0             7.3          0.22       95906   \n",
       "2   C509     46064.0             6.7          0.21      155895   \n",
       "3   C259     34643.0             5.0          0.16      120070   \n",
       "4   C189     33282.0             4.8          0.15      143188   \n",
       "5    C80     23427.0             3.4          0.11       33186   \n",
       "6   C439     19987.0             2.9          0.09       17279   \n",
       "7   C159     18809.0             2.7          0.08       22888   \n",
       "8   C169     17640.0             2.6          0.08      125679   \n",
       "10  C719     15514.0             2.3          0.07       18906   \n",
       "\n",
       "    Neo/Death_Ita%  Neo/pop_Ita%  \n",
       "0             19.0          0.71  \n",
       "1              4.3          0.16  \n",
       "2              6.9          0.26  \n",
       "3              5.3          0.20  \n",
       "4              6.4          0.24  \n",
       "5              1.5          0.05  \n",
       "6              0.8          0.03  \n",
       "7              1.0          0.04  \n",
       "8              5.6          0.21  \n",
       "10             0.8          0.03  "
      ]
     },
     "execution_count": 44,
     "metadata": {},
     "output_type": "execute_result"
    }
   ],
   "source": [
    "#The frequency of deaths by Neoplasms in Italy and Australia by different neoplasms type\n",
    "data4_Aus = data4_3.loc[data4_3['Country'] == 5020]\n",
    "list_Aus_1 = data4_Aus['Cause'].tolist() #identify all the cause\n",
    "list_Aus_2 = data4_Aus.Cause.isin(list_Neoplasm)\n",
    "data4_Aus_1 = data4_Aus.copy()\n",
    "data4_Aus_1['JUDGE'] = list_Aus_2 #identify the cause belong to Neoplasm ICD10-category\n",
    "data4_Aus_2 = data4_Aus_1.loc[data4_Aus_1['JUDGE'] == 1]\n",
    "Neoplasm_Cause_Aus = data4_Aus_2.groupby(['Cause']).sum()\n",
    "Neoplasm_Cause_Aus_1 = Neoplasm_Cause_Aus.sort_values(by='Deaths1', ascending=False)\n",
    "Aus_Neoplasm = pd.DataFrame(Neoplasm_Cause_Aus_1['Deaths1'])\n",
    "Aus_Neoplasm['Proportion (%)'] = round(Neoplasm_Cause_Aus_1['Deaths1'] *100/ Neoplasm_Cause_Aus_1['Deaths1'].sum(),1) #calculate the proportion of overall deaths\n",
    "Aus_Neoplasm_1 = Aus_Neoplasm.reset_index()\n",
    "Aus_Neoplasm_1['Population%'] = round (Aus_Neoplasm_1.Deaths1*100/data6.loc[data6['Country'] == 5020].Pop1.sum(),2)\n",
    "Italy_Neoplasm_1 = Italy_Neoplasm.reset_index()\n",
    "Italy_Neoplasm_1['Population%'] = round (Italy_Neoplasm_1.Deaths1*100/data6.loc[data6['Country'] == 4180].Pop1.sum(),2)\n",
    "merge_Neoplasm = Aus_Neoplasm_1.merge(Italy_Neoplasm_1, on = 'Cause',how = 'outer')\n",
    "merge_Neoplasm.columns = ['Cause','Deaths_Aus','Neo/Death_Aus%','Neo/pop_Aus%','Deahts_Ita','Neo/Death_Ita%','Neo/pop_Ita%']\n",
    "merge_Neoplasm.sort_values(by='Neo/Death_Aus%', ascending=False).head(10)\n",
    "#Pro_Aus_deaths% = number of people death from each type of Neoplasms / total number of people death from Neoplasms\n",
    "#Pro_Aus_pop%= number of people death from each type of Neoplasms / total population"
   ]
  },
  {
   "cell_type": "markdown",
   "metadata": {},
   "source": [
    "#### Second, we can combine information from different age group. Based on this logic, we could compare the mortality from Neoplasms in each age group. "
   ]
  },
  {
   "cell_type": "code",
   "execution_count": 45,
   "metadata": {},
   "outputs": [
    {
     "data": {
      "text/html": [
       "<div>\n",
       "<style scoped>\n",
       "    .dataframe tbody tr th:only-of-type {\n",
       "        vertical-align: middle;\n",
       "    }\n",
       "\n",
       "    .dataframe tbody tr th {\n",
       "        vertical-align: top;\n",
       "    }\n",
       "\n",
       "    .dataframe thead th {\n",
       "        text-align: right;\n",
       "    }\n",
       "</style>\n",
       "<table border=\"1\" class=\"dataframe\">\n",
       "  <thead>\n",
       "    <tr style=\"text-align: right;\">\n",
       "      <th></th>\n",
       "      <th>age_group</th>\n",
       "      <th>Neoplasms_Ita</th>\n",
       "      <th>death_Ita</th>\n",
       "      <th>Neo/Death_Ita%</th>\n",
       "      <th>Pop_Ita</th>\n",
       "      <th>Neo/pop_Ita%</th>\n",
       "      <th>Neoplasms_Aus</th>\n",
       "      <th>death_Aus</th>\n",
       "      <th>Neo/Death_Aus%</th>\n",
       "      <th>Pop_Aus</th>\n",
       "      <th>Neo/pop_Aus%</th>\n",
       "    </tr>\n",
       "  </thead>\n",
       "  <tbody>\n",
       "    <tr>\n",
       "      <th>16</th>\n",
       "      <td>60-64</td>\n",
       "      <td>14049</td>\n",
       "      <td>51232</td>\n",
       "      <td>27.4223</td>\n",
       "      <td>3757507.0</td>\n",
       "      <td>0.3739</td>\n",
       "      <td>3938</td>\n",
       "      <td>15160</td>\n",
       "      <td>25.9763</td>\n",
       "      <td>1211191.0</td>\n",
       "      <td>0.3251</td>\n",
       "    </tr>\n",
       "    <tr>\n",
       "      <th>15</th>\n",
       "      <td>55-59</td>\n",
       "      <td>8553</td>\n",
       "      <td>31796</td>\n",
       "      <td>26.8996</td>\n",
       "      <td>3716030.0</td>\n",
       "      <td>0.2302</td>\n",
       "      <td>2695</td>\n",
       "      <td>10920</td>\n",
       "      <td>24.6795</td>\n",
       "      <td>1325205.0</td>\n",
       "      <td>0.2034</td>\n",
       "    </tr>\n",
       "    <tr>\n",
       "      <th>17</th>\n",
       "      <td>65-69</td>\n",
       "      <td>17890</td>\n",
       "      <td>67594</td>\n",
       "      <td>26.4668</td>\n",
       "      <td>3107714.0</td>\n",
       "      <td>0.5757</td>\n",
       "      <td>4768</td>\n",
       "      <td>18718</td>\n",
       "      <td>25.4728</td>\n",
       "      <td>908177.0</td>\n",
       "      <td>0.5250</td>\n",
       "    </tr>\n",
       "    <tr>\n",
       "      <th>14</th>\n",
       "      <td>50-54</td>\n",
       "      <td>5685</td>\n",
       "      <td>22282</td>\n",
       "      <td>25.5139</td>\n",
       "      <td>4095185.0</td>\n",
       "      <td>0.1388</td>\n",
       "      <td>1756</td>\n",
       "      <td>8156</td>\n",
       "      <td>21.5302</td>\n",
       "      <td>1467896.0</td>\n",
       "      <td>0.1196</td>\n",
       "    </tr>\n",
       "    <tr>\n",
       "      <th>18</th>\n",
       "      <td>70-74</td>\n",
       "      <td>25258</td>\n",
       "      <td>107624</td>\n",
       "      <td>23.4687</td>\n",
       "      <td>3068744.0</td>\n",
       "      <td>0.8231</td>\n",
       "      <td>5713</td>\n",
       "      <td>24754</td>\n",
       "      <td>23.0791</td>\n",
       "      <td>710052.0</td>\n",
       "      <td>0.8046</td>\n",
       "    </tr>\n",
       "    <tr>\n",
       "      <th>13</th>\n",
       "      <td>45-49</td>\n",
       "      <td>3437</td>\n",
       "      <td>15886</td>\n",
       "      <td>21.6354</td>\n",
       "      <td>4717717.0</td>\n",
       "      <td>0.0729</td>\n",
       "      <td>1064</td>\n",
       "      <td>5914</td>\n",
       "      <td>17.9912</td>\n",
       "      <td>1575858.0</td>\n",
       "      <td>0.0675</td>\n",
       "    </tr>\n",
       "    <tr>\n",
       "      <th>5</th>\n",
       "      <td>5-9</td>\n",
       "      <td>90</td>\n",
       "      <td>456</td>\n",
       "      <td>19.7368</td>\n",
       "      <td>2838221.0</td>\n",
       "      <td>0.0032</td>\n",
       "      <td>46</td>\n",
       "      <td>282</td>\n",
       "      <td>16.3121</td>\n",
       "      <td>1365354.0</td>\n",
       "      <td>0.0034</td>\n",
       "    </tr>\n",
       "    <tr>\n",
       "      <th>12</th>\n",
       "      <td>40-44</td>\n",
       "      <td>1925</td>\n",
       "      <td>10182</td>\n",
       "      <td>18.9059</td>\n",
       "      <td>4949158.0</td>\n",
       "      <td>0.0389</td>\n",
       "      <td>548</td>\n",
       "      <td>3886</td>\n",
       "      <td>14.1019</td>\n",
       "      <td>1549610.0</td>\n",
       "      <td>0.0354</td>\n",
       "    </tr>\n",
       "    <tr>\n",
       "      <th>19</th>\n",
       "      <td>75-79</td>\n",
       "      <td>29884</td>\n",
       "      <td>158356</td>\n",
       "      <td>18.8714</td>\n",
       "      <td>2531923.0</td>\n",
       "      <td>1.1803</td>\n",
       "      <td>6291</td>\n",
       "      <td>32744</td>\n",
       "      <td>19.2127</td>\n",
       "      <td>553062.0</td>\n",
       "      <td>1.1375</td>\n",
       "    </tr>\n",
       "    <tr>\n",
       "      <th>6</th>\n",
       "      <td>10-14</td>\n",
       "      <td>97</td>\n",
       "      <td>584</td>\n",
       "      <td>16.6096</td>\n",
       "      <td>2811810.0</td>\n",
       "      <td>0.0034</td>\n",
       "      <td>31</td>\n",
       "      <td>280</td>\n",
       "      <td>11.0714</td>\n",
       "      <td>1403828.0</td>\n",
       "      <td>0.0022</td>\n",
       "    </tr>\n",
       "  </tbody>\n",
       "</table>\n",
       "</div>"
      ],
      "text/plain": [
       "   age_group Neoplasms_Ita death_Ita Neo/Death_Ita%    Pop_Ita  Neo/pop_Ita%  \\\n",
       "16     60-64         14049     51232        27.4223  3757507.0        0.3739   \n",
       "15     55-59          8553     31796        26.8996  3716030.0        0.2302   \n",
       "17     65-69         17890     67594        26.4668  3107714.0        0.5757   \n",
       "14     50-54          5685     22282        25.5139  4095185.0        0.1388   \n",
       "18     70-74         25258    107624        23.4687  3068744.0        0.8231   \n",
       "13     45-49          3437     15886        21.6354  4717717.0        0.0729   \n",
       "5        5-9            90       456        19.7368  2838221.0        0.0032   \n",
       "12     40-44          1925     10182        18.9059  4949158.0        0.0389   \n",
       "19     75-79         29884    158356        18.8714  2531923.0        1.1803   \n",
       "6      10-14            97       584        16.6096  2811810.0        0.0034   \n",
       "\n",
       "   Neoplasms_Aus death_Aus Neo/Death_Aus%    Pop_Aus  Neo/pop_Aus%  \n",
       "16          3938     15160        25.9763  1211191.0        0.3251  \n",
       "15          2695     10920        24.6795  1325205.0        0.2034  \n",
       "17          4768     18718        25.4728   908177.0        0.5250  \n",
       "14          1756      8156        21.5302  1467896.0        0.1196  \n",
       "18          5713     24754        23.0791   710052.0        0.8046  \n",
       "13          1064      5914        17.9912  1575858.0        0.0675  \n",
       "5             46       282        16.3121  1365354.0        0.0034  \n",
       "12           548      3886        14.1019  1549610.0        0.0354  \n",
       "19          6291     32744        19.2127   553062.0        1.1375  \n",
       "6             31       280        11.0714  1403828.0        0.0022  "
      ]
     },
     "execution_count": 45,
     "metadata": {},
     "output_type": "execute_result"
    }
   ],
   "source": [
    "#The frequency of deaths by Neoplasms in Italy and Australia by age group\n",
    "Italy_death_2010 = data4.loc[data4['Country'] == 4180]\n",
    "list_B5 = Italy_death_2010.Cause.isin(list_Neoplasm) #identify the people death because of Neoplasm\n",
    "Italy_death_2010_1 = Italy_death_2010.copy()\n",
    "Italy_death_2010_1['JUDGE'] = list_B5\n",
    "Italy_death_2010_2 = Italy_death_2010_1.loc[Italy_death_2010_1['JUDGE'] == 1].sum()[10:35]#only keep the summarization result about number of death\n",
    "Italy_death_2010_3 = pd.DataFrame(Italy_death_2010_2,columns = ['Death_Neoplasms'])\n",
    "Italy_death_2010_3['Death_All_Cause'] = Italy_death_2010_1.sum()[10:35]\n",
    "Italy_death_2010_3['Proportion (%)'] = Italy_death_2010_3.Death_Neoplasms*100 /Italy_death_2010_3.Death_All_Cause\n",
    "list_age_group = ['0','1','2','3','4','5-9','10-14','15-19','20-24','25-29','30-34','35-39','40-44','45-49','50-54','55-59','60-64','65-69','70-74','75-79','80-84','85-89','90-94','95+','unspecified']\n",
    "Italy_death_2010_3.index = list_age_group\n",
    "Italy_death_2010_4 = Italy_death_2010_3.reset_index()\n",
    "Australia_death_2010_3.index = list_age_group\n",
    "Australia_death_2010_4 = Australia_death_2010_3.reset_index()\n",
    "Pop_Agegroup_Italy = pd.DataFrame(data6.loc[data6['Country'] == 4180].sum()[7:32],columns = ['Pop_Italy'])\n",
    "Pop_Agegroup_Italy.index = list_age_group\n",
    "Pop_Agegroup_Italy_1 = Pop_Agegroup_Italy.reset_index()\n",
    "Pop_Agegroup_Aus = pd.DataFrame(data6.loc[data6['Country'] == 5020].sum()[7:32],columns = ['Pop_Aus'])\n",
    "Pop_Agegroup_Aus.index = list_age_group\n",
    "Pop_Agegroup_Aus_1 = Pop_Agegroup_Aus.reset_index()\n",
    "merge_Italy = pd.merge(Italy_death_2010_4,Pop_Agegroup_Italy_1, on = 'index')[0:24]\n",
    "merge_Italy['Popo_Pro_Italy%'] = merge_Italy.Death_Neoplasms*100 / merge_Italy.Pop_Italy\n",
    "merge_Italy['Popo_Pro_Italy%'] = merge_Italy['Popo_Pro_Italy%'].astype(float)\n",
    "merge_Italy['Popo_Pro_Italy%'] = round (merge_Italy['Popo_Pro_Italy%'],4)\n",
    "merge_Aus = pd.merge(Australia_death_2010_4,Pop_Agegroup_Aus_1, on = 'index')[0:24]\n",
    "merge_Aus['Popo_Pro_Aus%'] = merge_Aus.Death_Neoplasms*100 / merge_Aus.Pop_Aus\n",
    "merge_Aus['Popo_Pro_Aus%'] = merge_Aus['Popo_Pro_Aus%'].astype(float)\n",
    "merge_Aus['Popo_Pro_Aus%'] = round (merge_Aus['Popo_Pro_Aus%'],4)\n",
    "merge_Age_group = pd.merge(merge_Italy,merge_Aus, on = 'index')\n",
    "merge_Age_group.columns = ['age_group','Neoplasms_Ita','death_Ita','Neo/Death_Ita%','Pop_Ita','Neo/pop_Ita%','Neoplasms_Aus','death_Aus','Neo/Death_Aus%','Pop_Aus','Neo/pop_Aus%']\n",
    "merge_Age_group_sort1 = merge_Age_group.sort_values(by='Neo/Death_Ita%', ascending=False).head(10)\n",
    "merge_Age_group_sort1\n",
    "#Pro_Death_Ita% = number of people death from Neoplasms in this age group / total number of people death in this age group\n",
    "#Pro_pop_Ita% = number of people death from Neoplasms in this age group / total number of population in this age group"
   ]
  },
  {
   "cell_type": "markdown",
   "metadata": {},
   "source": [
    "#### From the variable ‘Neo/Death%’, we could find Neoplasms is a majority cause of death at 5 to 9 and 60 to 64 years old in these two countries. Compare with Italy, Australia has better control of Neoplasms before 75 years old."
   ]
  },
  {
   "cell_type": "code",
   "execution_count": 46,
   "metadata": {},
   "outputs": [
    {
     "data": {
      "image/png": "[encoded data removed]",
      "text/plain": [
       "<Figure size 1080x720 with 1 Axes>"
      ]
     },
     "metadata": {},
     "output_type": "display_data"
    }
   ],
   "source": [
    "#histogram about Death Proportion from neoplasms to all the death people by age group in Italy and Australia based on the above table\n",
    "age_group_list = merge_Age_group.age_group\n",
    "Pro_Death_Ita_list = merge_Age_group['Neo/Death_Ita%']\n",
    "Pro_Death_Aus_list = merge_Age_group['Neo/Death_Aus%']\n",
    "x = list(range(len(age_group_list)))\n",
    "total_width, n = 1, 4\n",
    "width = total_width / n\n",
    "fig = plt.figure(figsize = (15, 10))\n",
    "plt.bar(x, Pro_Death_Ita_list, width=width, label='Italy Death Proportion from neoplasms to all the death people',fc = 'b')\n",
    "for i in range(len(x)):\n",
    "    x[i] = x[i] + width #identify the position of second bar\n",
    "plt.bar(x, Pro_Death_Aus_list, width=width, label='Australia Death Proportion from neoplasms to all the death people',tick_label = age_group_list,fc = 'r')\n",
    "plt.title('Death Proportion from neoplasms to all the death people by age group in Italy and Australia')\n",
    "plt.xlabel(\"age group\")\n",
    "plt.ylabel(\"Death Proportion from neoplasms to all the death people (%)\")\n",
    "plt.legend()\n",
    "plt.show()"
   ]
  },
  {
   "cell_type": "markdown",
   "metadata": {},
   "source": [
    "#### From the variable ‘Neo/pop%’, we could find the proportion of people deaths from Neoplasms to each age group’s population continuous increase. The older the person, the more risk of Neoplasms should be prevented."
   ]
  },
  {
   "cell_type": "code",
   "execution_count": 47,
   "metadata": {
    "scrolled": false
   },
   "outputs": [
    {
     "data": {
      "image/png": "[encoded data removed]",
      "text/plain": [
       "<Figure size 1080x720 with 1 Axes>"
      ]
     },
     "metadata": {},
     "output_type": "display_data"
    }
   ],
   "source": [
    "#histogram about proportion of dying from neoplasms to the population by age group in Italy and Australia based on the above table\n",
    "age_group_list = merge_Age_group.age_group\n",
    "Pro_pop_Ita_list = merge_Age_group['Neo/pop_Ita%']\n",
    "Pro_pop_Aus_list = merge_Age_group['Neo/pop_Aus%'] #value of each bars\n",
    "x = list(range(len(age_group_list)))\n",
    "total_width, n = 1, 4\n",
    "width = total_width / n\n",
    "fig = plt.figure(figsize = (15, 10))\n",
    "plt.bar(x, Pro_pop_Ita_list, width=width, label='Italy proportion of dying from neoplasms to the population',fc = 'b')\n",
    "for i in range(len(x)):\n",
    "    x[i] = x[i] + width #identify the position of second bar\n",
    "plt.bar(x, Pro_pop_Aus_list, width=width, label='Australia proportion of dying from neoplasms to the population',tick_label = age_group_list,fc = 'r')\n",
    "plt.title('proportion of dying from neoplasms to the population by age group in Italy and Australia')\n",
    "plt.xlabel(\"age group\")\n",
    "plt.ylabel(\"Death Proportion from neoplasms to the population(%)\")\n",
    "plt.legend()\n",
    "plt.show()"
   ]
  },
  {
   "cell_type": "markdown",
   "metadata": {},
   "source": [
    "##### REFERENCES\n",
    "\n",
    "Is Metformin the World's Next Wonder Drug? Can It Block Cancer Cell Growth? (2017, June 8). Retrieved January 20, 2019. Available at: http://trendintech.com/2017/06/07/is-metformin-the-worlds-next-wonder-drug/ [Accessed 21, January 2019].\n",
    "\n",
    "Wingo, P.A. et al., 2003. Long‐term trends in cancer mortality in the United States, 1930–1998. Cancer, 97(S12), pp.3133–3275.\n"
   ]
  }
 ],
 "metadata": {
  "kernelspec": {
   "display_name": "Python 3",
   "language": "python",
   "name": "python3"
  },
  "language_info": {
   "codemirror_mode": {
    "name": "ipython",
    "version": 3
   },
   "file_extension": ".py",
   "mimetype": "text/x-python",
   "name": "python",
   "nbconvert_exporter": "python",
   "pygments_lexer": "ipython3",
   "version": "3.6.5"
  }
 },
 "nbformat": 4,
 "nbformat_minor": 2
}
